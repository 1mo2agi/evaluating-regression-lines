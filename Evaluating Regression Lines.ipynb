{
 "cells": [
  {
   "cell_type": "markdown",
   "metadata": {},
   "source": [
    "# Choosing a best-fit line"
   ]
  },
  {
   "cell_type": "markdown",
   "metadata": {},
   "source": [
    "### Introduction"
   ]
  },
  {
   "cell_type": "markdown",
   "metadata": {},
   "source": [
    "Now, so far we have seen that our regression lines make an estimation of our values of y.  They are useful because we can make an estimation of an output given an input.  In our example, we can make an estimation of a movie's expected revenue given a budget.  Our regression lines are described by two different variables, $m$, which represents the slope of the line and $b$ which is the value of $y$ when x is zero.\n",
    "\n",
    "So far we have been rather fast and loose with choosing our regression line.  Well that ends today.  In this lesson, we'll begin to evaluate the accuracy of a regression line, and how to use a technique to choose a regression line.  "
   ]
  },
  {
   "cell_type": "markdown",
   "metadata": {},
   "source": [
    "### Determining Quality"
   ]
  },
  {
   "cell_type": "markdown",
   "metadata": {},
   "source": [
    "To measure the accuracy of a regression line, we see how closely our regression line matches the data we have.  Let's see what we mean."
   ]
  },
  {
   "cell_type": "code",
   "execution_count": 1,
   "metadata": {
    "collapsed": true
   },
   "outputs": [],
   "source": [
    "first_show = {'x': 0, 'y': 100}\n",
    "second_show = {'x': 100, 'y': 150}\n",
    "third_show = {'x': 200, 'y': 600}\n",
    "fourth_show = {'x': 400, 'y': 700}\n",
    "\n",
    "shows = [first_show, second_show, third_show, fourth_show]"
   ]
  },
  {
   "cell_type": "markdown",
   "metadata": {},
   "source": [
    "For now, let's set a roughshod regression line simply by drawing a line between our first and last points.  Our regression line will be changing, so it's ok that we don't use a rigorous technique right now."
   ]
  },
  {
   "cell_type": "code",
   "execution_count": 6,
   "metadata": {
    "collapsed": true
   },
   "outputs": [],
   "source": [
    "# We write a method to calculate the slope between two points, and then apply this to our first and last points.  \n",
    "\n",
    "def slope_between_two_points(first_point, second_point):\n",
    "    return (second_point['y'] - first_point['y'])/(second_point['x'] - first_point['x'])\n",
    "\n",
    "slope_between_two_points(shows[0], shows[3]) # 1.5\n",
    "\n",
    "def y_intercept(points):\n",
    "    point_at_zero = list(filter(lambda show: show['x'] == 0,shows))[0]\n",
    "    return point_at_zero['y']\n",
    "\n",
    "y_intercept(shows) # b = 100 \n",
    "slope_between_two_points(shows[0], shows[3]) # m = 1.5\n",
    "\n",
    "# plugging m and b into our formula y = mx + b we get the following sample_regression_formula\n",
    "def sample_regression_formula(x):\n",
    "    return 1.5(x) + 100\n"
   ]
  },
  {
   "cell_type": "markdown",
   "metadata": {},
   "source": [
    "Ok, so now that we have our sample regression formula we can see it in action.  We draw a chart that displays our sample regression line (by simply drawing a line the data points with the lowest and highest x value) and then show with red color lines where our regression line does not match up to the data."
   ]
  },
  {
   "cell_type": "markdown",
   "metadata": {},
   "source": [
    "![](./regression-scatter.png)"
   ]
  },
  {
   "cell_type": "markdown",
   "metadata": {},
   "source": [
    "Take a look at that first red line.  It's showing that our regression formula does not perfectly predict our line.  More concretely, at that spot, x = 100, and our regression line is predicting that the value of y will be 250. And even if we did not have our plot, we could see this by using our formula for the regression line y = 1.5x + 100, and at x = 100, y = 1.5 * 100 + 100 = 250.\n",
    "\n",
    "However the point below our regression line shows the actual value of y when x = 100 which is 150.  In other words, our regression line does not perfectly predict our data - and each point where it is misses in it's prediction is called an error.  So that is what the reds lines are indictating, the distance between the prediction of data and the actual data.  Or in other words, the red lines are visually displaying the size of each error.\n",
    "\n",
    "Now let's measure the size of that error.  We can say that our error, at point x = 100, is the actual_y - expected_y = (150) - (250) = -100. "
   ]
  },
  {
   "cell_type": "markdown",
   "metadata": {},
   "source": [
    "### Refining our Terms"
   ]
  },
  {
   "cell_type": "markdown",
   "metadata": {},
   "source": [
    "One thing that's difficult is that we are really now talking about two things, our predicted y values and our actual y values.  Let's spend some time on notations.  We spend time on notations because (1) other resources you look at may use them and we don't want you to be scared off by them and (2) once you understand the notations, they allow us to speak with more clarity. "
   ]
  },
  {
   "cell_type": "markdown",
   "metadata": {},
   "source": [
    "Now so far we have defined our regression function as y = mx + b.  Where for a given value of x, we can calculate the value of y.  However, this value of y is not the actual value of y, but just an estimation.  So let's indicate this, by changing our function to look like the following.  "
   ]
  },
  {
   "cell_type": "markdown",
   "metadata": {},
   "source": [
    "$\\overline{y} = \\overline{m}x + \\overline{b}$ "
   ]
  },
  {
   "cell_type": "markdown",
   "metadata": {},
   "source": [
    "Those lines, over y, m and x are called hats, so this is read as y hat equals m hat times x plus b hat.  These hats indicate that this formula does not give us the actual value of y, but simply our estimated value of y.  And that this predicted value of y is based on our predicted values of m and b.  \n",
    "> Note that x is not a predicted value.  Why is this?  Well, we are providing a value x, which in this case represents our movie budget, not predicting it.  So we are providing a value of x and asking it to predict a value of y.  \n",
    "\n",
    "Now how do we represent our actual values of x, and y, that is each of the individual points in our scatter plot.  So we can just represent each actual y value as y.  No special mark needed.     \n",
    "\n",
    "Ok, so now that we know that to indicate an estimated value, we use the $\\overline{hat}$ symbol.  So let's try to apply this to our formula for an error, which we said is actual value - estimated value.\n",
    "\n",
    "In math terms, this is error = $y$ - $\\overline{y}$.\n",
    "\n",
    "And while were at it, let's use the Greek letter epsilon, $\\varepsilon$ to indicate error, so now our formula is:\n",
    "\n",
    "$\\varepsilon$ = $y$ - $\\overline{y}$\n",
    "\n",
    "Now, to indicate that we are representing something at a specific point, we can use a subscript.  For example, $\\overline{y}_{x=100}$, means the estimated value of y when x = 100.  And to indicate the error at the point where x = 100, we write:\n",
    "\n",
    "$\\varepsilon _{x=100}$ = $y_{x=100}$ - $\\overline{y}_{x=100}$ \n",
    "\n",
    "or \n",
    "\n",
    "$\\varepsilon _{x=100} = 150 - 250 = -100$\n",
    "\n",
    "Now, we wrote the the general formula for error as, $\\varepsilon$ = $y$ - $\\overline{y}$, but we can a little more precise by saying, this is the error at any specific point, for where $y$ and $\\overline{y}$ are at that same point.  This is written as: \n",
    "\n",
    "$\\varepsilon _{i}$ = $y_{i}$ - $\\overline{y}_{i}$"
   ]
  },
  {
   "cell_type": "markdown",
   "metadata": {},
   "source": [
    "### Calculating and representing total error"
   ]
  },
  {
   "cell_type": "markdown",
   "metadata": {},
   "source": [
    "Now so far, we saw that we can calculate the error at a given point of x, by using the formula, $\\varepsilon$ = $y$ - $\\overline{y}$.  In other words, the the error at a given value of x is the actual value minus the expected value.  Now, we want to see well our regression describes the relation between x and y in general - not just at a given point, so let's move beyond calculating the error at a given point to describing the total error of the regression line from the actual data.  \n",
    "\n",
    "An initial idea in doing this, is to simply to calculate the total error by summing the errors, $y$ - $\\overline{y}$, for every point in our dataset.  \n",
    "\n",
    "However let's take another look at our data."
   ]
  },
  {
   "cell_type": "markdown",
   "metadata": {},
   "source": [
    "![](./regression-scatter.png)"
   ]
  },
  {
   "cell_type": "markdown",
   "metadata": {
    "collapsed": true
   },
   "source": [
    "Notice, error at x = 100 = 150 - 250 = -100.  And error at x = 200 = 600 - 400 = 200.  So adding these errors, -150 + 200 = 50, would begin to cancel them out.  To avoid that effect, we can simply square the errors, so that we are always summing positive numbers.\n",
    "\n",
    "${error^2}$ = $({y - \\overline{y}})^2$\n",
    "\n",
    "Now give a list of points with coordinates (x, y), we can calculate the squared error of each of the points.  We have actual x and y values at x = 0, 100, 200 and 400.  So we have:\n",
    "\n",
    "sum of squared error = $(0 - 0)^2 + (150 - 250)^2 + (600 - 400)^2 + (700 - 700)^2$\n",
    "\n",
    "so \n",
    "\n",
    "sum of squared error  = $-100^2 + 200^2 = 50,000$"
   ]
  },
  {
   "cell_type": "markdown",
   "metadata": {},
   "source": [
    "Now there is one thing a little off with our measure of error.  It's that our regression line's error will tend to increase with each added piece of data we have.  For example, assume that we add to our dataset the actual data, x = 300, y = 500.  Our regression line did a relatively good job of estimating this point, as $\\varepsilon$ = 500 - 550, or $\\varepsilon = (500 - 550)^2$.  But we are now including an extra error, we add that to our sum, and it looks like did worse. \n",
    "\n",
    "sum of squared error = $-100^2 + 200^2 + -50^2 = 52,500$ \n",
    "\n",
    "\n",
    "To fix this, we can change our metric to use the squared error per point, or in other words, the average squared error.  The average of something is simply the sum divided by the number of things being summed.  Instead of the word average, we use the word mean, as it sounds fancier: \n",
    "\n",
    "mean squared error = (sum of $(y - y)^2$ for each data point, (x, y)) $\\div$ (number of data points)\n",
    "\n",
    "So changing our sum of squared error (with the original data) to a mean squared error, we have:\n",
    "\n",
    "Mean Squared Error = 50,000/4 = 12500\n",
    "\n",
    "Ok, this is great.  So now we have one number that does a good job of representing how well our regression line fits the data.  We got there by calculating the errors, then squaring the errors so that our errors are always positive, and finally using the average error as it better represents the accuracy of our line.  We could stop here, and be fine.  However, statisticians like to remove the effect of us squaring these errors.  So instead of just calculating the mean squared error, we calculate the Root Mean Squared Error.  This is just taking the square root at the very end.  So \n",
    "\n",
    "root mean squared error = the square root of ( (sum of $(y - y)^2$ for each data point, (x, y)) $\\div$ (number of data points) ) \n",
    "\n",
    "or with our data it is: \n",
    "\n",
    "Root Mean Squared Error = 50,000/4 = $\\sqrt{12500}$ = 111.8"
   ]
  },
  {
   "cell_type": "markdown",
   "metadata": {},
   "source": [
    "### Summary "
   ]
  },
  {
   "cell_type": "markdown",
   "metadata": {},
   "source": [
    "Previous to this lesson, we have simply assumed that our regression lines make \"good\" predictions of values of $y$ for given values of $x$.  In this lesson, we aimed to find a metric to tell us how well our regression line fits our actual data.  To do this, we started by saying an error at a given point, is the difference of the actual value of y minus the expected value of y from our regression line.  Then we said we describe how well our regression line describes the entire dataset by squaring the errors at each point (to eliminate negative errors), adding these errors, and then dividing by the number of datapoints so as to describe how off our regression line is on average.  This is called the Mean Squared Error.  Finally, to reduce the effect of squaring each of our errors, we take the square root of the Mean Squared Error to arrive at the Root Mean Squared Error.  This is our metric for describing how well our regression line \"fits\" our data. "
   ]
  },
  {
   "cell_type": "markdown",
   "metadata": {},
   "source": [
    "### Formulas"
   ]
  },
  {
   "cell_type": "code",
   "execution_count": 16,
   "metadata": {},
   "outputs": [
    {
     "data": {
      "text/plain": [
       "12500.0"
      ]
     },
     "execution_count": 16,
     "metadata": {},
     "output_type": "execute_result"
    }
   ],
   "source": [
    "def sample_regression_formula(x):\n",
    "    return 100 + 1.5*x\n",
    "\n",
    "def squared_error(point):\n",
    "    y_hat = sample_regression_formula(point['x'])\n",
    "    return (point['y'] - y_hat)**2\n",
    "\n",
    "squared_error(shows[0]) # 0\n",
    "squared_error(shows[1]) # 10000\n",
    "squared_error(shows[2]) # 40000\n",
    "squared_error(shows[3]) # 0\n",
    "\n",
    "def squared_errors(points):\n",
    "    return list(map(lambda point: squared_error(point), points))\n",
    "\n",
    "squared_errors(shows) # [0.0, 10000.0, 40000.0, 0.0]\n",
    "\n",
    "def average_squared_error(points):\n",
    "    return sum(squared_errors(points))/len(points)\n",
    "\n",
    "average_squared_error(shows) # 12500.0"
   ]
  },
  {
   "cell_type": "markdown",
   "metadata": {},
   "source": [
    "### Comparing between lines"
   ]
  },
  {
   "cell_type": "markdown",
   "metadata": {},
   "source": [
    "Now that we have a number which we can use to evaluate the goodness of fit of our regression line, to find the \"best fit\" regression line we do the following:\n",
    "* Adjust $b$ and $m$, as these are the only things that can vary in our regression line.\n",
    "* After each adjustment calculate the average squared error \n",
    "* The regression line (that is, the values of $b$ and $m$) with our smallest average squared error is our best fit line "
   ]
  },
  {
   "cell_type": "markdown",
   "metadata": {},
   "source": [
    "Let's see this technique in action.  For this example, let's imagine that our data does not include the point when x = 0, so now we have the following."
   ]
  },
  {
   "cell_type": "code",
   "execution_count": 9,
   "metadata": {
    "collapsed": true
   },
   "outputs": [],
   "source": [
    "first_show = {'x': 100, 'y': 150}\n",
    "second_show = {'x': 200, 'y': 600}\n",
    "third_show = {'x': 400, 'y': 700}\n",
    "\n",
    "updated_shows = [first_show, second_show, third_show]"
   ]
  },
  {
   "cell_type": "markdown",
   "metadata": {},
   "source": [
    "We again take an initial guess at slope by calculating drawing a line between the first and last points.  And then let's just start by setting $b$ = 100."
   ]
  },
  {
   "cell_type": "code",
   "execution_count": 10,
   "metadata": {
    "collapsed": true
   },
   "outputs": [],
   "source": [
    "def slope_between_two_points(first_point, second_point):\n",
    "    return (second_point['y'] - first_point['y'])/(second_point['x'] - first_point['x'])\n",
    "\n",
    "slope_between_two_points(shows[0], updated_shows[2]) # 1.833\n",
    "\n",
    "def sample_regression_formula(x):\n",
    "    return 1.83*x + 110\n",
    "    # change the number 0 to different numbers, to see what happens"
   ]
  },
  {
   "cell_type": "code",
   "execution_count": 11,
   "metadata": {
    "scrolled": true
   },
   "outputs": [
    {
     "data": {
      "text/plain": [
       "18663.0"
      ]
     },
     "execution_count": 11,
     "metadata": {},
     "output_type": "execute_result"
    }
   ],
   "source": [
    "average_squared_error(updated_shows) # 18956.33"
   ]
  },
  {
   "cell_type": "markdown",
   "metadata": {},
   "source": [
    "Now we don't know if $b$ is any good, so let's plug in different numbers."
   ]
  },
  {
   "cell_type": "markdown",
   "metadata": {},
   "source": [
    "| b        | average square error           | \n",
    "| ------------- |:-------------:| \n",
    "| 100      |17689| \n",
    "| 110      |18663 | \n",
    "| 90      |16916 | \n",
    "|80 | 16343.0\n",
    "|70 | 15969\n",
    "|60 | 15796\n",
    "| 50 | 15823"
   ]
  },
  {
   "cell_type": "markdown",
   "metadata": {},
   "source": [
    "Now notice that simply by setting different numbers as $b$, we value produces smaller mean squared error (MSE), given our value of $m$ at 1.83.  Setting $b$ to 110 produced a higher error, than at 100, so we tried moving in the other direction.  We kept moving in that direction until we set $b$ = 50, at which point our error increased from the value at 60.  So, we know that a value of $b$ between 50 and 60 produces the smallest average squared error, when $m$ = 1.83. "
   ]
  },
  {
   "cell_type": "markdown",
   "metadata": {},
   "source": [
    "Let's plot our table, using plotly.  First, because we will be changing $b$, and eventually $m$, let's change our regression formula so that we can change any of those values."
   ]
  },
  {
   "cell_type": "markdown",
   "metadata": {},
   "source": [
    "### Using the fitted line"
   ]
  },
  {
   "cell_type": "code",
   "execution_count": 12,
   "metadata": {
    "collapsed": true
   },
   "outputs": [],
   "source": [
    "def regression_formula_variable(x, m, b):\n",
    "    return m*x + b"
   ]
  },
  {
   "cell_type": "markdown",
   "metadata": {},
   "source": [
    "Now we update our functions that calculate the error to use our new function, and to allow us to pass through the values of $b$ and $m$."
   ]
  },
  {
   "cell_type": "code",
   "execution_count": 116,
   "metadata": {},
   "outputs": [
    {
     "data": {
      "text/plain": [
       "[(10, 17929.666666666668),\n",
       " (20, 17103.0),\n",
       " (30, 16476.333333333332),\n",
       " (40, 16049.666666666666),\n",
       " (50, 15823.0),\n",
       " (60, 15796.333333333334),\n",
       " (70, 15969.666666666666),\n",
       " (80, 16343.0),\n",
       " (90, 16916.333333333332),\n",
       " (100, 17689.666666666668),\n",
       " (110, 18663.0)]"
      ]
     },
     "execution_count": 116,
     "metadata": {},
     "output_type": "execute_result"
    }
   ],
   "source": [
    "def squared_error_variable(point, m, b):\n",
    "    y_hat = regression_formula_variable(point['x'], m, b)\n",
    "    return (point['y'] - y_hat)**2\n",
    "\n",
    "def squared_errors_variable(points, m, b):\n",
    "    return list(map(lambda point: squared_error_variable(point, m, b), points))\n",
    "\n",
    "def average_squared_error_variable(points, m, b):\n",
    "    return sum(squared_errors_variable(points, m, b))/len(points)\n",
    "\n",
    "b_values = list(range(10, 120, 10)) # [10, 20, 30, 40, 50, 60, 70, 80, 90, 100, 110]\n",
    "errors = list(map(lambda b_value: average_squared_error_variable(updated_shows, 1.83, b_value), b_values))\n",
    "error_chart = list(zip(b_values, errors))\n",
    "error_chart"
   ]
  },
  {
   "cell_type": "markdown",
   "metadata": {},
   "source": [
    "Above is our error chart.  Note that it is identical to the data in the table we have above.  If we plot this data of the b-values, and the corresponding squared errors generated from them, we see that the data makes an curve."
   ]
  },
  {
   "cell_type": "code",
   "execution_count": 121,
   "metadata": {},
   "outputs": [
    {
     "data": {
      "application/vnd.plotly.v1+json": {
       "data": [
        {
         "type": "scatter",
         "x": [
          10,
          20,
          30,
          40,
          50,
          60,
          70,
          80,
          90,
          100,
          110
         ],
         "y": [
          17929.666666666668,
          17103,
          16476.333333333332,
          16049.666666666666,
          15823,
          15796.333333333334,
          15969.666666666666,
          16343,
          16916.333333333332,
          17689.666666666668,
          18663
         ]
        }
       ],
       "layout": {
        "title": "Cost Function",
        "xaxis": {
         "title": "B value",
         "zeroline": false
        },
        "yaxis": {
         "title": "Sum Squared Error",
         "zeroline": false
        }
       }
      },
      "text/html": [
       "<div id=\"13236645-35cf-4aa4-9b73-f8e937e9851a\" style=\"height: 525px; width: 100%;\" class=\"plotly-graph-div\"></div><script type=\"text/javascript\">require([\"plotly\"], function(Plotly) { window.PLOTLYENV=window.PLOTLYENV || {};window.PLOTLYENV.BASE_URL=\"https://plot.ly\";Plotly.newPlot(\"13236645-35cf-4aa4-9b73-f8e937e9851a\", [{\"type\": \"scatter\", \"x\": [10, 20, 30, 40, 50, 60, 70, 80, 90, 100, 110], \"y\": [17929.666666666668, 17103.0, 16476.333333333332, 16049.666666666666, 15823.0, 15796.333333333334, 15969.666666666666, 16343.0, 16916.333333333332, 17689.666666666668, 18663.0]}], {\"title\": \"Cost Function\", \"yaxis\": {\"zeroline\": false, \"title\": \"Sum Squared Error\"}, \"xaxis\": {\"zeroline\": false, \"title\": \"B value\"}}, {\"showLink\": true, \"linkText\": \"Export to plot.ly\"})});</script>"
      ],
      "text/vnd.plotly.v1+html": [
       "<div id=\"13236645-35cf-4aa4-9b73-f8e937e9851a\" style=\"height: 525px; width: 100%;\" class=\"plotly-graph-div\"></div><script type=\"text/javascript\">require([\"plotly\"], function(Plotly) { window.PLOTLYENV=window.PLOTLYENV || {};window.PLOTLYENV.BASE_URL=\"https://plot.ly\";Plotly.newPlot(\"13236645-35cf-4aa4-9b73-f8e937e9851a\", [{\"type\": \"scatter\", \"x\": [10, 20, 30, 40, 50, 60, 70, 80, 90, 100, 110], \"y\": [17929.666666666668, 17103.0, 16476.333333333332, 16049.666666666666, 15823.0, 15796.333333333334, 15969.666666666666, 16343.0, 16916.333333333332, 17689.666666666668, 18663.0]}], {\"title\": \"Cost Function\", \"yaxis\": {\"zeroline\": false, \"title\": \"Sum Squared Error\"}, \"xaxis\": {\"zeroline\": false, \"title\": \"B value\"}}, {\"showLink\": true, \"linkText\": \"Export to plot.ly\"})});</script>"
      ]
     },
     "metadata": {},
     "output_type": "display_data"
    }
   ],
   "source": [
    "cost_function_trace = graph_objs.Scatter(\n",
    "    x=list(map(lambda error: error[0], error_chart)),\n",
    "    y=list(map(lambda error: error[1], error_chart)),\n",
    ")\n",
    "\n",
    "layout = dict(title = 'Cost Function',\n",
    "              yaxis = dict(zeroline = False, title= 'Sum Squared Error'),\n",
    "              xaxis = dict(zeroline = False, title= 'B value')\n",
    "             )\n",
    "plotly.offline.iplot(dict(data=[cost_function_trace], layout=layout))"
   ]
  },
  {
   "cell_type": "markdown",
   "metadata": {},
   "source": [
    "That smily face above, is called the **cost curve**.  It shows the errors of different levels of B.  We want to reduce the error, so to do that we need to find the value of b such that the sum of squared errors is lowest - that appears to be when b is 60.  So that means that our y intercept, when x is 1.83 should be 60."
   ]
  },
  {
   "cell_type": "markdown",
   "metadata": {},
   "source": [
    "If we show the regression line side by side of the points cost curve, you can see how the two numbers relate."
   ]
  },
  {
   "cell_type": "markdown",
   "metadata": {},
   "source": [
    "> Don't stress about the below code.  It's not important -- it's just used to generate lines in our plots.  "
   ]
  },
  {
   "cell_type": "code",
   "execution_count": 106,
   "metadata": {
    "collapsed": true
   },
   "outputs": [],
   "source": [
    "def generate_regression_line(ending_x, m, b):\n",
    "    y_hat = m*ending_x + b\n",
    "    return {\n",
    "    'type':'line',\n",
    "    'x0': 0,\n",
    "    'y0': b,\n",
    "    'x1': ending_x,\n",
    "    'y1': y_hat,\n",
    "    'xref': 'x1',\n",
    "    'yref': 'y1',\n",
    "    'line': {\n",
    "        'color': 'rgb(55, 128, 191)',\n",
    "        'width': 3,\n",
    "        }\n",
    "    }\n",
    "line = generate_regression_line(400, 1.8, 500)\n",
    "\n",
    "def generate_cost_line(errors, b):\n",
    "    return {\n",
    "    'type':'line',\n",
    "    'x0': b,\n",
    "    'y0': 0,\n",
    "    'x1': b,\n",
    "    'y1': max(errors),\n",
    "    'xref': 'x2',\n",
    "    'yref': 'y1',\n",
    "    'line': {\n",
    "        'color': 'rgb(55, 128, 191)',\n",
    "        'width': 3,\n",
    "        }\n",
    "    }\n"
   ]
  },
  {
   "cell_type": "markdown",
   "metadata": {},
   "source": [
    "> Now the below code, still doesn't need to be understood.  But do change the value of b, and see how the plots below adjust."
   ]
  },
  {
   "cell_type": "code",
   "execution_count": 105,
   "metadata": {},
   "outputs": [
    {
     "data": {
      "text/html": [
       "<script>requirejs.config({paths: { 'plotly': ['https://cdn.plot.ly/plotly-latest.min']},});if(!window.Plotly) {{require(['plotly'],function(plotly) {window.Plotly=plotly;});}}</script>"
      ],
      "text/vnd.plotly.v1+html": [
       "<script>requirejs.config({paths: { 'plotly': ['https://cdn.plot.ly/plotly-latest.min']},});if(!window.Plotly) {{require(['plotly'],function(plotly) {window.Plotly=plotly;});}}</script>"
      ]
     },
     "metadata": {},
     "output_type": "display_data"
    },
    {
     "name": "stdout",
     "output_type": "stream",
     "text": [
      "This is the format of your plot grid:\n",
      "[ (1,1) x1,y1 ]  [ (1,2) x2,y2 ]\n",
      "\n"
     ]
    },
    {
     "data": {
      "application/vnd.plotly.v1+json": {
       "data": [
        {
         "type": "scatter",
         "x": [
          10,
          20,
          30,
          40,
          50,
          60,
          70,
          80,
          90,
          100,
          110
         ],
         "xaxis": "x2",
         "y": [
          17929.666666666668,
          17103,
          16476.333333333332,
          16049.666666666666,
          15823,
          15796.333333333334,
          15969.666666666666,
          16343,
          16916.333333333332,
          17689.666666666668,
          18663
         ],
         "yaxis": "y2"
        },
        {
         "mode": "markers",
         "type": "scatter",
         "x": [
          100,
          200,
          400
         ],
         "xaxis": "x1",
         "y": [
          150,
          600,
          700
         ],
         "yaxis": "y1"
        }
       ],
       "layout": {
        "shapes": [
         {
          "line": {
           "color": "rgb(55, 128, 191)",
           "width": 3
          },
          "type": "line",
          "x0": 0,
          "x1": 400,
          "xref": "x1",
          "y0": 100,
          "y1": 820,
          "yref": "y1"
         },
         {
          "line": {
           "color": "rgb(55, 128, 191)",
           "width": 3
          },
          "type": "line",
          "x0": 100,
          "x1": 100,
          "xref": "x2",
          "y0": 0,
          "y1": 18663,
          "yref": "y1"
         }
        ],
        "xaxis1": {
         "anchor": "y1",
         "domain": [
          0,
          0.45
         ]
        },
        "xaxis2": {
         "anchor": "y2",
         "domain": [
          0.55,
          1
         ]
        },
        "yaxis1": {
         "anchor": "x1",
         "domain": [
          0,
          1
         ],
         "range": [
          0,
          1000
         ]
        },
        "yaxis2": {
         "anchor": "x2",
         "domain": [
          0,
          1
         ]
        }
       }
      },
      "text/html": [
       "<div id=\"4145558e-2a5b-4819-8daf-3cfdc83a49ce\" style=\"height: 525px; width: 100%;\" class=\"plotly-graph-div\"></div><script type=\"text/javascript\">require([\"plotly\"], function(Plotly) { window.PLOTLYENV=window.PLOTLYENV || {};window.PLOTLYENV.BASE_URL=\"https://plot.ly\";Plotly.newPlot(\"4145558e-2a5b-4819-8daf-3cfdc83a49ce\", [{\"type\": \"scatter\", \"x\": [10, 20, 30, 40, 50, 60, 70, 80, 90, 100, 110], \"y\": [17929.666666666668, 17103.0, 16476.333333333332, 16049.666666666666, 15823.0, 15796.333333333334, 15969.666666666666, 16343.0, 16916.333333333332, 17689.666666666668, 18663.0], \"xaxis\": \"x2\", \"yaxis\": \"y2\"}, {\"type\": \"scatter\", \"x\": [100, 200, 400], \"y\": [150, 600, 700], \"mode\": \"markers\", \"xaxis\": \"x1\", \"yaxis\": \"y1\"}], {\"xaxis1\": {\"domain\": [0.0, 0.45], \"anchor\": \"y1\"}, \"yaxis1\": {\"domain\": [0.0, 1.0], \"anchor\": \"x1\", \"range\": [0, 1000]}, \"xaxis2\": {\"domain\": [0.55, 1.0], \"anchor\": \"y2\"}, \"yaxis2\": {\"domain\": [0.0, 1.0], \"anchor\": \"x2\"}, \"shapes\": [{\"type\": \"line\", \"x0\": 0, \"y0\": 100, \"x1\": 400, \"y1\": 820.0, \"xref\": \"x1\", \"yref\": \"y1\", \"line\": {\"color\": \"rgb(55, 128, 191)\", \"width\": 3}}, {\"type\": \"line\", \"x0\": 100, \"y0\": 0, \"x1\": 100, \"y1\": 18663.0, \"xref\": \"x2\", \"yref\": \"y1\", \"line\": {\"color\": \"rgb(55, 128, 191)\", \"width\": 3}}]}, {\"showLink\": true, \"linkText\": \"Export to plot.ly\"})});</script>"
      ],
      "text/vnd.plotly.v1+html": [
       "<div id=\"4145558e-2a5b-4819-8daf-3cfdc83a49ce\" style=\"height: 525px; width: 100%;\" class=\"plotly-graph-div\"></div><script type=\"text/javascript\">require([\"plotly\"], function(Plotly) { window.PLOTLYENV=window.PLOTLYENV || {};window.PLOTLYENV.BASE_URL=\"https://plot.ly\";Plotly.newPlot(\"4145558e-2a5b-4819-8daf-3cfdc83a49ce\", [{\"type\": \"scatter\", \"x\": [10, 20, 30, 40, 50, 60, 70, 80, 90, 100, 110], \"y\": [17929.666666666668, 17103.0, 16476.333333333332, 16049.666666666666, 15823.0, 15796.333333333334, 15969.666666666666, 16343.0, 16916.333333333332, 17689.666666666668, 18663.0], \"xaxis\": \"x2\", \"yaxis\": \"y2\"}, {\"type\": \"scatter\", \"x\": [100, 200, 400], \"y\": [150, 600, 700], \"mode\": \"markers\", \"xaxis\": \"x1\", \"yaxis\": \"y1\"}], {\"xaxis1\": {\"domain\": [0.0, 0.45], \"anchor\": \"y1\"}, \"yaxis1\": {\"domain\": [0.0, 1.0], \"anchor\": \"x1\", \"range\": [0, 1000]}, \"xaxis2\": {\"domain\": [0.55, 1.0], \"anchor\": \"y2\"}, \"yaxis2\": {\"domain\": [0.0, 1.0], \"anchor\": \"x2\"}, \"shapes\": [{\"type\": \"line\", \"x0\": 0, \"y0\": 100, \"x1\": 400, \"y1\": 820.0, \"xref\": \"x1\", \"yref\": \"y1\", \"line\": {\"color\": \"rgb(55, 128, 191)\", \"width\": 3}}, {\"type\": \"line\", \"x0\": 100, \"y0\": 0, \"x1\": 100, \"y1\": 18663.0, \"xref\": \"x2\", \"yref\": \"y1\", \"line\": {\"color\": \"rgb(55, 128, 191)\", \"width\": 3}}]}, {\"showLink\": true, \"linkText\": \"Export to plot.ly\"})});</script>"
      ]
     },
     "metadata": {},
     "output_type": "display_data"
    }
   ],
   "source": [
    "import plotly\n",
    "from plotly import graph_objs, tools\n",
    "plotly.offline.init_notebook_mode(connected=True)\n",
    "\n",
    "fig = tools.make_subplots(rows=1, cols=2)\n",
    "\n",
    "\n",
    "\n",
    "cost_function_trace = graph_objs.Scatter(\n",
    "    x=list(map(lambda error: error[0], error_chart)),\n",
    "    y=list(map(lambda error: error[1], error_chart)),\n",
    ")\n",
    "fig.append_trace(cost_function_trace, 1, 2)\n",
    "\n",
    "scatter_trace = graph_objs.Scatter(\n",
    "    x=list(map(lambda show: show['x'], updated_shows)),\n",
    "    y=list(map(lambda show: show['y'], updated_shows)),\n",
    "    mode=\"markers\"\n",
    ")\n",
    "\n",
    "\n",
    "##############\n",
    "\n",
    "### CHANGE THIS VALUE OF B\n",
    "\n",
    "b = 100\n",
    "##############\n",
    "\n",
    "cost_line = generate_cost_line(errors, b)\n",
    "regression_line = generate_regression_line(400, 1.8, b)\n",
    "\n",
    "fig.append_trace(scatter_trace, 1, 1)\n",
    "\n",
    "fig['layout'].update(shapes=[regression_line, cost_line])\n",
    "fig['layout']['yaxis1'].update(range=[0, 1000])\n",
    "\n",
    "plotly.offline.iplot(fig)"
   ]
  },
  {
   "cell_type": "markdown",
   "metadata": {},
   "source": []
  },
  {
   "cell_type": "markdown",
   "metadata": {},
   "source": [
    "## Using the fitted line"
   ]
  },
  {
   "cell_type": "markdown",
   "metadata": {},
   "source": [
    "Then we use the fitted line, so then the model is in terms of unknown parameters.  \n",
    "\n",
    "yi = wo + w1xi + ei\n",
    "\n",
    "And the estimated parameters wo hat, w1 hat take on actual parameters.\n",
    "\n",
    "So these estimated parameters define a specific line.  So we can predict the value of the house, and we do this by plugging into our fitted line our house into the line.  And that gives us our estimated value of the house.  So y^ is our predicted value of the house.\n",
    "\n",
    "So the prediction is equally likely to be above or below, so we are ensure if that error is above or below, so our best guess is to put it on the line.\n",
    "\n",
    "So now we have a fitted regression line, and predict the value of a house that has.  So can be able to buy a house of x number of square feet."
   ]
  },
  {
   "cell_type": "markdown",
   "metadata": {},
   "source": [
    "### Interpreting the Co-Efficients of the Line"
   ]
  },
  {
   "cell_type": "markdown",
   "metadata": {},
   "source": [
    "Let's just take a look at the first point, towards the bottom left.  That point represents the movie \"21 & Over\", with 13 million dollars being spent and 25.6 million earned domestically."
   ]
  },
  {
   "cell_type": "code",
   "execution_count": 42,
   "metadata": {},
   "outputs": [
    {
     "data": {
      "text/plain": [
       "{'budget': 13000000, 'domgross': 25682380.0, 'title': '21 &amp; Over'}"
      ]
     },
     "execution_count": 42,
     "metadata": {},
     "output_type": "execute_result"
    }
   ],
   "source": [
    "parsed_movies[0]"
   ]
  },
  {
   "cell_type": "markdown",
   "metadata": {},
   "source": [
    "What plotting this data shows us is that as the movie budget increases, represented by the points plotted further to the right, the movie revenue increases.  So, at least we now know something.\n",
    "\n",
    "Ok, now imagine your movie executive friend told you that the budget that came across his desk was $30 million.  Based on the data we graphed, how much money do you think the movie would bring in?"
   ]
  },
  {
   "cell_type": "markdown",
   "metadata": {},
   "source": [
    "### Drawing a line"
   ]
  },
  {
   "cell_type": "markdown",
   "metadata": {},
   "source": [
    "Ok, so how are we going to do something like this.  Well we could draw a single straight line that approximates the relationship between a movie's budget and revenue.  Below, we draw a line. We'll worry about how well a line like the one below models the relationship between two different variables later.  For now, let's use this.   "
   ]
  },
  {
   "cell_type": "markdown",
   "metadata": {
    "collapsed": true
   },
   "source": [
    "![](./plot-intersect.png)"
   ]
  },
  {
   "cell_type": "markdown",
   "metadata": {},
   "source": [
    "Well one of the benefits of using a line is that we can see how much money will be brought in for any point on this line.  Spend 50 million, and expect to bring in about 63 million.  Spend 10 million, and expect to bring in 17 million.  This approach of modeling a relationship a variable that explains an output by using a line, is called **linear regression**. \n",
    "\n",
    "Let's see if we can translate this line into a formula that will tell us the y value that corresponds to any given value of x along that line.\n",
    "\n",
    "Let's take an initial (wrong) guess as to how to make this a formula.  And then we'll take another one.  This is our first guess.\n",
    "\n",
    "$y = x$\n",
    "\n",
    "Here is how we write it as a function."
   ]
  },
  {
   "cell_type": "code",
   "execution_count": 20,
   "metadata": {},
   "outputs": [
    {
     "data": {
      "text/plain": [
       "0"
      ]
     },
     "execution_count": 20,
     "metadata": {},
     "output_type": "execute_result"
    }
   ],
   "source": [
    "def y(x):\n",
    "    return x\n",
    "\n",
    "y(0)"
   ]
  },
  {
   "cell_type": "code",
   "execution_count": 21,
   "metadata": {},
   "outputs": [
    {
     "data": {
      "text/plain": [
       "10000000"
      ]
     },
     "execution_count": 21,
     "metadata": {},
     "output_type": "execute_result"
    }
   ],
   "source": [
    "y(10000000)"
   ]
  },
  {
   "cell_type": "markdown",
   "metadata": {
    "collapsed": true
   },
   "source": [
    "What the formula is saying is that for every value of $x$ that I input to the function, I will get back an equal value $y$.  So according to the function, if the movie has a budget of 30 million, it will earn 30 million.  \n",
    "\n",
    "Of course, this does not match the line in our chart.  The line says that spending 30 million brings predicted earnings of 40 million.  So how do we change our function?  Well look at the line in our chart, we can examine the x and y values at three different points\n",
    "\n",
    "| X        | Y           | \n",
    "| ------------- |:-------------:| \n",
    "| 0      |0 | \n",
    "| 30 million      |40 million | \n",
    "| 60 million      |80 million | \n",
    "\n",
    "What equation will allow us to input 0 and get back 0, input 30 million and get back 40 million, and input 60 million and get back 80 million?\n",
    "\n",
    "Well it's $y = 4/3*x$\n",
    "\n",
    "* 0 = 4/3 * 0\n",
    "* 40 million =  4/3 * 30 million \n",
    "* 80 million = 4/3 * 60 million \n",
    "\n",
    "Let's see it in the code, and then in the next section we'll show how to figure what to multiply $x$ by. \n",
    "\n",
    "Ok, this is what this formula looks like in code."
   ]
  },
  {
   "cell_type": "code",
   "execution_count": 16,
   "metadata": {},
   "outputs": [
    {
     "data": {
      "text/plain": [
       "40000000.0"
      ]
     },
     "execution_count": 16,
     "metadata": {},
     "output_type": "execute_result"
    }
   ],
   "source": [
    "def y(x):\n",
    "    return 4/3*x\n",
    "\n",
    "y(30000000)"
   ]
  },
  {
   "cell_type": "code",
   "execution_count": 17,
   "metadata": {},
   "outputs": [
    {
     "data": {
      "text/plain": [
       "0.0"
      ]
     },
     "execution_count": 17,
     "metadata": {},
     "output_type": "execute_result"
    }
   ],
   "source": [
    "y(0)"
   ]
  },
  {
   "cell_type": "markdown",
   "metadata": {},
   "source": [
    "Progress! By multiplying $x$ by a value, we can describe the line in our chart with a function that given an value of $x$, corresponds the value of $y$ along that line.  \n",
    "\n",
    "In statistics, you will see this formula described as \n",
    "\n",
    "$y = mx$ \n",
    "\n",
    "With the variables standing for the following: \n",
    "\n",
    "* $y$: the value that is returned, also called the **response variable**, as it responds to values of $x$\n",
    "* $x$: the input variable, also called the **explanatory variable**, as it explains the value of $y$\n",
    "* $m$: the **slope variable**, determines how vertical or horizontal the line will be"
   ]
  },
  {
   "cell_type": "markdown",
   "metadata": {},
   "source": [
    "In our movie example, these terms make sense.  The $y$ value is our money earned from the movie, which we say is in response to how much we spend.  Our explanatory variable of $x$ explains the value of $y$, and the $m$ corresponds to our value of 1.33, which determines the slope of the line."
   ]
  },
  {
   "cell_type": "markdown",
   "metadata": {},
   "source": [
    "### Calculating the slope variable "
   ]
  },
  {
   "cell_type": "markdown",
   "metadata": {},
   "source": [
    "This is our mechanism for calculating the slope $m$.  Take any two points along the straight line, then $m$ is **the ratio of the vertical distance travelled to the horizontal distance travelled**.  Or, in math, it's:\n",
    "\n",
    "$m = \\Delta y \\div \\Delta x $\n",
    "> The $\\Delta$ is the Greek letter Delta.  In math, Delta means change.  So you can the read the above formula as $m$ equals change in y divided by change in x.\n",
    "\n",
    "For example, let's take another look of our graph, and our line.  Let's travel the distance from x being equal to zero to 10 million.  Plugging the numbers into our formula, we see that for that segment:\n",
    "\n",
    "* $\\Delta x$ = 10 million\n",
    "* $\\Delta y$ = 13.3 million\n",
    "\n",
    "Notice that another way to word change in x is really our ending x value, 10 million, minus our starting x value, 0.  And that change in y also means our ending y value, 13 million, minus our y initial value 0.  \n",
    "\n",
    "So this means: \n",
    "\n",
    "* $\\Delta y = y_1-  y_0$\n",
    "* $\\Delta x = x_1 - x_0$\n",
    "\n",
    "And therefore we can say $m$ is the following: given a beginning point (x0, y0) and an ending point (x1, y1) along any segment of a straight line, the slope of that line $m$ equals the following:  \n",
    "\n",
    "$m = (y_1 - y_0) \\div (x_1 - x_0)$"
   ]
  },
  {
   "cell_type": "markdown",
   "metadata": {},
   "source": [
    "Ok, let's apply this formula to our line.  We can choose any two points for the formula, so let's have a starting point of (30 million, 40 million) and an ending point of (60 million, 80 million). Then plugging these coordinates into our formula, we have the following:\n",
    "\n",
    "* $m =(y_1 - y_0)\\div(x_1 - x_0) =  (80,000,000 - 40,000,000) \\div (60,000,000 - 30,000,000) = 4/3 = 1.33$"
   ]
  },
  {
   "cell_type": "markdown",
   "metadata": {},
   "source": [
    "![](./m-calc.png)"
   ]
  },
  {
   "cell_type": "markdown",
   "metadata": {},
   "source": [
    "So that is how we calculate the slope of a line, take any two points along that line and divide distance travelled vertically from the distance travelled horizontally."
   ]
  },
  {
   "cell_type": "markdown",
   "metadata": {},
   "source": [
    "### The y intercept"
   ]
  },
  {
   "cell_type": "markdown",
   "metadata": {},
   "source": [
    "Ok, there is just one more thing that we need to be able to learn before being able to describe every straight line in a two dimensional world.  That is the y-intercept."
   ]
  },
  {
   "cell_type": "markdown",
   "metadata": {},
   "source": [
    "The y-intercept is the y value of the line when it intersects the y-axis.  Or to put it another way, the y-intercept is the value of y when x equals zero. "
   ]
  },
  {
   "cell_type": "markdown",
   "metadata": {},
   "source": [
    "![](plot-add.png)"
   ]
  },
  {
   "cell_type": "markdown",
   "metadata": {},
   "source": [
    "So looking at the graph, what is the y intercept of the blue line?  Well it's the value of y when the blue line crosses the y-axis.  The value is zero.  Now you can imagine shifting up the entire line up, so that the y intercept increases to to 20 million, and that for every value of x, the corresponding value of y increases by 20 million.  So our formula is no longer y = 4/3 x.  It is y = 4/3 x + 20 million. \n",
    "\n",
    "In statistics, you will see this as $y = mx + b$ where b is the y-intercept.  Taking a look at our chart of points on the line, we can see that 20 million is our y-intercept."
   ]
  },
  {
   "cell_type": "markdown",
   "metadata": {
    "collapsed": true
   },
   "source": [
    "| X        | Y           | \n",
    "| ------------- |:-------------:| \n",
    "| 0      |20 million | \n",
    "| 30 million      |60 million | \n",
    "| 60 million      |100 million | "
   ]
  },
  {
   "cell_type": "markdown",
   "metadata": {},
   "source": [
    "And translating our formula into a function, we have:"
   ]
  },
  {
   "cell_type": "code",
   "execution_count": 19,
   "metadata": {
    "collapsed": true
   },
   "outputs": [],
   "source": [
    "def y(x):\n",
    "    return 4/3*x + 20000000"
   ]
  },
  {
   "cell_type": "code",
   "execution_count": 20,
   "metadata": {},
   "outputs": [
    {
     "data": {
      "text/plain": [
       "60000000.0"
      ]
     },
     "execution_count": 20,
     "metadata": {},
     "output_type": "execute_result"
    }
   ],
   "source": [
    "y(30000000)"
   ]
  },
  {
   "cell_type": "code",
   "execution_count": 21,
   "metadata": {},
   "outputs": [
    {
     "data": {
      "text/plain": [
       "100000000.0"
      ]
     },
     "execution_count": 21,
     "metadata": {},
     "output_type": "execute_result"
    }
   ],
   "source": [
    "y(60000000)"
   ]
  },
  {
   "cell_type": "markdown",
   "metadata": {},
   "source": [
    "The formula $y = mx + b$ can describe any line in a two dimensional space.  The $m$ value will change how flat or vertical the line is, and the $b$ value changes the starting point of the line. "
   ]
  },
  {
   "cell_type": "markdown",
   "metadata": {},
   "source": [
    "### Summary"
   ]
  },
  {
   "cell_type": "code",
   "execution_count": null,
   "metadata": {
    "collapsed": true
   },
   "outputs": [],
   "source": []
  }
 ],
 "metadata": {
  "kernelspec": {
   "display_name": "Python 3",
   "language": "python",
   "name": "python3"
  },
  "language_info": {
   "codemirror_mode": {
    "name": "ipython",
    "version": 3
   },
   "file_extension": ".py",
   "mimetype": "text/x-python",
   "name": "python",
   "nbconvert_exporter": "python",
   "pygments_lexer": "ipython3",
   "version": "3.6.1"
  }
 },
 "nbformat": 4,
 "nbformat_minor": 2
}
