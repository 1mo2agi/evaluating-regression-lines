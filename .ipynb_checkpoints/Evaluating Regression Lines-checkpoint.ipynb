{
 "cells": [
  {
   "cell_type": "markdown",
   "metadata": {},
   "source": [
    "### Choosing a best-fit line"
   ]
  },
  {
   "cell_type": "markdown",
   "metadata": {},
   "source": [
    "So far we have been rather fast and loose with choosing our regression line.  Well that ends today.  In this lesson, we'll begin to evaluate the accuracy of a regression line, and how to use a technique to choose a regression line.  "
   ]
  },
  {
   "cell_type": "markdown",
   "metadata": {},
   "source": [
    "### Determining Quality"
   ]
  },
  {
   "cell_type": "markdown",
   "metadata": {},
   "source": [
    "To get a sense of the accuracy of a regression line, we can do the following.  See how closely our regression line matches the data we have.  Let's see what we mean."
   ]
  },
  {
   "cell_type": "code",
   "execution_count": 10,
   "metadata": {
    "collapsed": true
   },
   "outputs": [],
   "source": [
    "first_show = {'x': 0, 'y': 100}\n",
    "second_show = {'x': 100, 'attendance': 150}\n",
    "third_show = {'x': 200, 'attendance': 600}\n",
    "fourth_show = {'budget': 400, 'attendance': 700}\n",
    "\n",
    "shows = [first_show, second_show, third_show, fourth_show]"
   ]
  },
  {
   "cell_type": "code",
   "execution_count": 17,
   "metadata": {
    "collapsed": true
   },
   "outputs": [],
   "source": [
    "def sample_regression_formula(x):\n",
    "    return 100 + 1.5(x)"
   ]
  },
  {
   "cell_type": "markdown",
   "metadata": {},
   "source": [
    "We draw a chart that displays our sample regression line (by simply drawing a line the data points with the lowest and highest x value) and then show with red color lines where our regression line does not match up to the data."
   ]
  },
  {
   "cell_type": "code",
   "execution_count": 16,
   "metadata": {},
   "outputs": [
    {
     "data": {
      "text/html": [
       "<script>requirejs.config({paths: { 'plotly': ['https://cdn.plot.ly/plotly-latest.min']},});if(!window.Plotly) {{require(['plotly'],function(plotly) {window.Plotly=plotly;});}}</script>"
      ],
      "text/vnd.plotly.v1+html": [
       "<script>requirejs.config({paths: { 'plotly': ['https://cdn.plot.ly/plotly-latest.min']},});if(!window.Plotly) {{require(['plotly'],function(plotly) {window.Plotly=plotly;});}}</script>"
      ]
     },
     "metadata": {},
     "output_type": "display_data"
    },
    {
     "data": {
      "application/vnd.plotly.v1+json": {
       "data": [
        {
         "mode": "markers",
         "type": "scatter",
         "x": [
          0,
          100,
          200,
          400
         ],
         "y": [
          100,
          150,
          600,
          700
         ]
        }
       ],
       "layout": {
        "shapes": [
         {
          "line": {
           "color": "rgb(55, 128, 191)",
           "width": 3
          },
          "type": "line",
          "x0": 0,
          "x1": 400,
          "y0": 100,
          "y1": 700
         },
         {
          "line": {
           "color": "rgb(178,34,34)",
           "width": 3
          },
          "type": "line",
          "x0": 200,
          "x1": 200,
          "y0": 600,
          "y1": 400
         },
         {
          "line": {
           "color": "rgb(178,34,34)",
           "width": 3
          },
          "type": "line",
          "x0": 100,
          "x1": 100,
          "y0": 150,
          "y1": 250
         }
        ],
        "showlegend": false,
        "xaxis": {
         "title": "Movie Spend",
         "zeroline": true
        },
        "yaxis": {
         "title": "Movie Revenue",
         "zeroline": true
        }
       }
      },
      "text/html": [
       "<div id=\"130de923-12fc-4d84-aa5d-eadd85d3eb88\" style=\"height: 525px; width: 100%;\" class=\"plotly-graph-div\"></div><script type=\"text/javascript\">require([\"plotly\"], function(Plotly) { window.PLOTLYENV=window.PLOTLYENV || {};window.PLOTLYENV.BASE_URL=\"https://plot.ly\";Plotly.newPlot(\"130de923-12fc-4d84-aa5d-eadd85d3eb88\", [{\"type\": \"scatter\", \"x\": [0, 100, 200, 400], \"y\": [100, 150, 600, 700], \"mode\": \"markers\"}], {\"xaxis\": {\"title\": \"Movie Spend\", \"zeroline\": true}, \"yaxis\": {\"title\": \"Movie Revenue\", \"zeroline\": true}, \"shapes\": [{\"type\": \"line\", \"x0\": 0, \"y0\": 100, \"x1\": 400, \"y1\": 700, \"line\": {\"color\": \"rgb(55, 128, 191)\", \"width\": 3}}, {\"type\": \"line\", \"x0\": 200, \"y0\": 600, \"x1\": 200, \"y1\": 400, \"line\": {\"color\": \"rgb(178,34,34)\", \"width\": 3}}, {\"type\": \"line\", \"x0\": 100, \"y0\": 150, \"x1\": 100, \"y1\": 250, \"line\": {\"color\": \"rgb(178,34,34)\", \"width\": 3}}], \"showlegend\": false}, {\"showLink\": true, \"linkText\": \"Export to plot.ly\"})});</script>"
      ],
      "text/vnd.plotly.v1+html": [
       "<div id=\"130de923-12fc-4d84-aa5d-eadd85d3eb88\" style=\"height: 525px; width: 100%;\" class=\"plotly-graph-div\"></div><script type=\"text/javascript\">require([\"plotly\"], function(Plotly) { window.PLOTLYENV=window.PLOTLYENV || {};window.PLOTLYENV.BASE_URL=\"https://plot.ly\";Plotly.newPlot(\"130de923-12fc-4d84-aa5d-eadd85d3eb88\", [{\"type\": \"scatter\", \"x\": [0, 100, 200, 400], \"y\": [100, 150, 600, 700], \"mode\": \"markers\"}], {\"xaxis\": {\"title\": \"Movie Spend\", \"zeroline\": true}, \"yaxis\": {\"title\": \"Movie Revenue\", \"zeroline\": true}, \"shapes\": [{\"type\": \"line\", \"x0\": 0, \"y0\": 100, \"x1\": 400, \"y1\": 700, \"line\": {\"color\": \"rgb(55, 128, 191)\", \"width\": 3}}, {\"type\": \"line\", \"x0\": 200, \"y0\": 600, \"x1\": 200, \"y1\": 400, \"line\": {\"color\": \"rgb(178,34,34)\", \"width\": 3}}, {\"type\": \"line\", \"x0\": 100, \"y0\": 150, \"x1\": 100, \"y1\": 250, \"line\": {\"color\": \"rgb(178,34,34)\", \"width\": 3}}], \"showlegend\": false}, {\"showLink\": true, \"linkText\": \"Export to plot.ly\"})});</script>"
      ]
     },
     "metadata": {},
     "output_type": "display_data"
    }
   ],
   "source": [
    "import plotly\n",
    "from plotly import graph_objs\n",
    "plotly.offline.init_notebook_mode(connected=True)\n",
    "\n",
    "trace = graph_objs.Scatter(\n",
    "    x=list(map(lambda show: show['budget'], shows)),\n",
    "    y=list(map(lambda show: show['attendance'], shows)),\n",
    "    mode=\"markers\"\n",
    ")\n",
    "\n",
    "layout= graph_objs.Layout(\n",
    "    xaxis= dict(\n",
    "        title= 'Movie Spend',\n",
    "        zeroline = True\n",
    "    ),\n",
    "    yaxis=dict(\n",
    "        title= 'Movie Revenue',\n",
    "        zeroline = True\n",
    "    ),\n",
    "    shapes=[\n",
    "        {\n",
    "            'type': 'line',\n",
    "            'x0': 0,\n",
    "            'y0': 100,\n",
    "            'x1': 400,\n",
    "            'y1': 700,\n",
    "            'line': {\n",
    "                'color': 'rgb(55, 128, 191)',\n",
    "                'width': 3,\n",
    "            },\n",
    "        },\n",
    "                {\n",
    "            'type': 'line',\n",
    "            'x0': 200,\n",
    "            'y0': 600,\n",
    "            'x1': 200,\n",
    "            'y1': 400,\n",
    "            'line': {\n",
    "                'color': 'rgb(178,34,34)',\n",
    "                'width': 3,\n",
    "            },\n",
    "        },\n",
    "        {\n",
    "            'type': 'line',\n",
    "            'x0': 100,\n",
    "            'y0': 150,\n",
    "            'x1': 100,\n",
    "            'y1': 250,\n",
    "            'line': {\n",
    "                'color': 'rgb(178,34,34)',\n",
    "                'width': 3,\n",
    "            },\n",
    "        }\n",
    "    ],\n",
    "    showlegend= False\n",
    ")\n",
    "\n",
    "plotly.offline.iplot(dict(data=[trace], layout=layout))"
   ]
  },
  {
   "cell_type": "markdown",
   "metadata": {},
   "source": [
    "In the above chart, you can see that at the point where x = 100, our regression line predicts a value of y -- our predicted y is called $\\overline{y}$, pronounced y hat.  However the actual value of y when x = 100 is 250.  So our formula has an error.\n",
    "\n",
    "We can say that our error, at point x = 100, is the actual_y - expected_y or in math terms,  $\\varepsilon$ = $y$ - $\\overline{y}$.\n",
    "\n",
    "Now an initial idea, is to simply evaluate lines by comparing their total errors, $y$ - $\\overline{y}$, for every point in our dataset.  However if we tried that on our datasets, notice at point x = 100, $\\varepsilon$ = 150 - 250 = -150.  And at x = 200, $\\varepsilon$ = 600 - 400 = 200.  So adding these errors would begin to cancel them out.  To avoid that effect, we can simply square the errors, so that we are always summing positive numbers, and add these numbers together.\n",
    "\n",
    "${error^2}$ = $({y - \\overline{y}})^2$"
   ]
  },
  {
   "cell_type": "markdown",
   "metadata": {
    "collapsed": true
   },
   "source": [
    "Now give a list of points with coordinates (x, y), we can calculate the squared error of each of the points."
   ]
  },
  {
   "cell_type": "code",
   "execution_count": null,
   "metadata": {
    "collapsed": true
   },
   "outputs": [],
   "source": [
    "def sample_regression_formula(x):\n",
    "    return 100 + 1.5(x)\n",
    "\n",
    "def squared_error(point):\n",
    "    point.y"
   ]
  },
  {
   "cell_type": "markdown",
   "metadata": {},
   "source": [
    "### Comparing between lines"
   ]
  },
  {
   "cell_type": "markdown",
   "metadata": {},
   "source": [
    "And give me a different line, gives me a different cost \n",
    "\n",
    "Estimating a function, search over all different lines, and try to find the one that results in the smallest residual sum of squares."
   ]
  },
  {
   "cell_type": "markdown",
   "metadata": {},
   "source": [
    "### Using the fitted line"
   ]
  },
  {
   "cell_type": "markdown",
   "metadata": {},
   "source": [
    "Then we use the fitted line, so then the model is in terms of unknown parameters.  \n",
    "\n",
    "yi = wo + w1xi + ei\n",
    "\n",
    "And the estimated parameters wo hat, w1 hat take on actual parameters.\n",
    "\n",
    "So these estimated parameters define a specific line.  So we can predict the value of the house, and we do this by plugging into our fitted line our house into the line.  And that gives us our estimated value of the house.  So y^ is our predicted value of the house.\n",
    "\n",
    "So the prediction is equally likely to be above or below, so we are ensure if that error is above or below, so our best guess is to put it on the line.\n",
    "\n",
    "So now we have a fitted regression line, and predict the value of a house that has.  So can be able to buy a house of x number of square feet."
   ]
  },
  {
   "cell_type": "markdown",
   "metadata": {},
   "source": [
    "### Interpreting the Co-Efficients of the Line"
   ]
  },
  {
   "cell_type": "markdown",
   "metadata": {},
   "source": [
    "Let's just take a look at the first point, towards the bottom left.  That point represents the movie \"21 & Over\", with 13 million dollars being spent and 25.6 million earned domestically."
   ]
  },
  {
   "cell_type": "code",
   "execution_count": 42,
   "metadata": {},
   "outputs": [
    {
     "data": {
      "text/plain": [
       "{'budget': 13000000, 'domgross': 25682380.0, 'title': '21 &amp; Over'}"
      ]
     },
     "execution_count": 42,
     "metadata": {},
     "output_type": "execute_result"
    }
   ],
   "source": [
    "parsed_movies[0]"
   ]
  },
  {
   "cell_type": "markdown",
   "metadata": {},
   "source": [
    "What plotting this data shows us is that as the movie budget increases, represented by the points plotted further to the right, the movie revenue increases.  So, at least we now know something.\n",
    "\n",
    "Ok, now imagine your movie executive friend told you that the budget that came across his desk was $30 million.  Based on the data we graphed, how much money do you think the movie would bring in?"
   ]
  },
  {
   "cell_type": "markdown",
   "metadata": {},
   "source": [
    "### Drawing a line"
   ]
  },
  {
   "cell_type": "markdown",
   "metadata": {},
   "source": [
    "Ok, so how are we going to do something like this.  Well we could draw a single straight line that approximates the relationship between a movie's budget and revenue.  Below, we draw a line. We'll worry about how well a line like the one below models the relationship between two different variables later.  For now, let's use this.   "
   ]
  },
  {
   "cell_type": "markdown",
   "metadata": {
    "collapsed": true
   },
   "source": [
    "![](./plot-intersect.png)"
   ]
  },
  {
   "cell_type": "markdown",
   "metadata": {},
   "source": [
    "Well one of the benefits of using a line is that we can see how much money will be brought in for any point on this line.  Spend 50 million, and expect to bring in about 63 million.  Spend 10 million, and expect to bring in 17 million.  This approach of modeling a relationship a variable that explains an output by using a line, is called **linear regression**. \n",
    "\n",
    "Let's see if we can translate this line into a formula that will tell us the y value that corresponds to any given value of x along that line.\n",
    "\n",
    "Let's take an initial (wrong) guess as to how to make this a formula.  And then we'll take another one.  This is our first guess.\n",
    "\n",
    "$y = x$\n",
    "\n",
    "Here is how we write it as a function."
   ]
  },
  {
   "cell_type": "code",
   "execution_count": 20,
   "metadata": {},
   "outputs": [
    {
     "data": {
      "text/plain": [
       "0"
      ]
     },
     "execution_count": 20,
     "metadata": {},
     "output_type": "execute_result"
    }
   ],
   "source": [
    "def y(x):\n",
    "    return x\n",
    "\n",
    "y(0)"
   ]
  },
  {
   "cell_type": "code",
   "execution_count": 21,
   "metadata": {},
   "outputs": [
    {
     "data": {
      "text/plain": [
       "10000000"
      ]
     },
     "execution_count": 21,
     "metadata": {},
     "output_type": "execute_result"
    }
   ],
   "source": [
    "y(10000000)"
   ]
  },
  {
   "cell_type": "markdown",
   "metadata": {
    "collapsed": true
   },
   "source": [
    "What the formula is saying is that for every value of $x$ that I input to the function, I will get back an equal value $y$.  So according to the function, if the movie has a budget of 30 million, it will earn 30 million.  \n",
    "\n",
    "Of course, this does not match the line in our chart.  The line says that spending 30 million brings predicted earnings of 40 million.  So how do we change our function?  Well look at the line in our chart, we can examine the x and y values at three different points\n",
    "\n",
    "| X        | Y           | \n",
    "| ------------- |:-------------:| \n",
    "| 0      |0 | \n",
    "| 30 million      |40 million | \n",
    "| 60 million      |80 million | \n",
    "\n",
    "What equation will allow us to input 0 and get back 0, input 30 million and get back 40 million, and input 60 million and get back 80 million?\n",
    "\n",
    "Well it's $y = 4/3*x$\n",
    "\n",
    "* 0 = 4/3 * 0\n",
    "* 40 million =  4/3 * 30 million \n",
    "* 80 million = 4/3 * 60 million \n",
    "\n",
    "Let's see it in the code, and then in the next section we'll show how to figure what to multiply $x$ by. \n",
    "\n",
    "Ok, this is what this formula looks like in code."
   ]
  },
  {
   "cell_type": "code",
   "execution_count": 16,
   "metadata": {},
   "outputs": [
    {
     "data": {
      "text/plain": [
       "40000000.0"
      ]
     },
     "execution_count": 16,
     "metadata": {},
     "output_type": "execute_result"
    }
   ],
   "source": [
    "def y(x):\n",
    "    return 4/3*x\n",
    "\n",
    "y(30000000)"
   ]
  },
  {
   "cell_type": "code",
   "execution_count": 17,
   "metadata": {},
   "outputs": [
    {
     "data": {
      "text/plain": [
       "0.0"
      ]
     },
     "execution_count": 17,
     "metadata": {},
     "output_type": "execute_result"
    }
   ],
   "source": [
    "y(0)"
   ]
  },
  {
   "cell_type": "markdown",
   "metadata": {},
   "source": [
    "Progress! By multiplying $x$ by a value, we can describe the line in our chart with a function that given an value of $x$, corresponds the value of $y$ along that line.  \n",
    "\n",
    "In statistics, you will see this formula described as \n",
    "\n",
    "$y = mx$ \n",
    "\n",
    "With the variables standing for the following: \n",
    "\n",
    "* $y$: the value that is returned, also called the **response variable**, as it responds to values of $x$\n",
    "* $x$: the input variable, also called the **explanatory variable**, as it explains the value of $y$\n",
    "* $m$: the **slope variable**, determines how vertical or horizontal the line will be"
   ]
  },
  {
   "cell_type": "markdown",
   "metadata": {},
   "source": [
    "In our movie example, these terms make sense.  The $y$ value is our money earned from the movie, which we say is in response to how much we spend.  Our explanatory variable of $x$ explains the value of $y$, and the $m$ corresponds to our value of 1.33, which determines the slope of the line."
   ]
  },
  {
   "cell_type": "markdown",
   "metadata": {},
   "source": [
    "### Calculating the slope variable "
   ]
  },
  {
   "cell_type": "markdown",
   "metadata": {},
   "source": [
    "This is our mechanism for calculating the slope $m$.  Take any two points along the straight line, then $m$ is **the ratio of the vertical distance travelled to the horizontal distance travelled**.  Or, in math, it's:\n",
    "\n",
    "$m = \\Delta y \\div \\Delta x $\n",
    "> The $\\Delta$ is the Greek letter Delta.  In math, Delta means change.  So you can the read the above formula as $m$ equals change in y divided by change in x.\n",
    "\n",
    "For example, let's take another look of our graph, and our line.  Let's travel the distance from x being equal to zero to 10 million.  Plugging the numbers into our formula, we see that for that segment:\n",
    "\n",
    "* $\\Delta x$ = 10 million\n",
    "* $\\Delta y$ = 13.3 million\n",
    "\n",
    "Notice that another way to word change in x is really our ending x value, 10 million, minus our starting x value, 0.  And that change in y also means our ending y value, 13 million, minus our y initial value 0.  \n",
    "\n",
    "So this means: \n",
    "\n",
    "* $\\Delta y = y_1-  y_0$\n",
    "* $\\Delta x = x_1 - x_0$\n",
    "\n",
    "And therefore we can say $m$ is the following: given a beginning point (x0, y0) and an ending point (x1, y1) along any segment of a straight line, the slope of that line $m$ equals the following:  \n",
    "\n",
    "$m = (y_1 - y_0) \\div (x_1 - x_0)$"
   ]
  },
  {
   "cell_type": "markdown",
   "metadata": {},
   "source": [
    "Ok, let's apply this formula to our line.  We can choose any two points for the formula, so let's have a starting point of (30 million, 40 million) and an ending point of (60 million, 80 million). Then plugging these coordinates into our formula, we have the following:\n",
    "\n",
    "* $m =(y_1 - y_0)\\div(x_1 - x_0) =  (80,000,000 - 40,000,000) \\div (60,000,000 - 30,000,000) = 4/3 = 1.33$"
   ]
  },
  {
   "cell_type": "markdown",
   "metadata": {},
   "source": [
    "![](./m-calc.png)"
   ]
  },
  {
   "cell_type": "markdown",
   "metadata": {},
   "source": [
    "So that is how we calculate the slope of a line, take any two points along that line and divide distance travelled vertically from the distance travelled horizontally."
   ]
  },
  {
   "cell_type": "markdown",
   "metadata": {},
   "source": [
    "### The y intercept"
   ]
  },
  {
   "cell_type": "markdown",
   "metadata": {},
   "source": [
    "Ok, there is just one more thing that we need to be able to learn before being able to describe every straight line in a two dimensional world.  That is the y-intercept."
   ]
  },
  {
   "cell_type": "markdown",
   "metadata": {},
   "source": [
    "The y-intercept is the y value of the line when it intersects the y-axis.  Or to put it another way, the y-intercept is the value of y when x equals zero. "
   ]
  },
  {
   "cell_type": "markdown",
   "metadata": {},
   "source": [
    "![](plot-add.png)"
   ]
  },
  {
   "cell_type": "markdown",
   "metadata": {},
   "source": [
    "So looking at the graph, what is the y intercept of the blue line?  Well it's the value of y when the blue line crosses the y-axis.  The value is zero.  Now you can imagine shifting up the entire line up, so that the y intercept increases to to 20 million, and that for every value of x, the corresponding value of y increases by 20 million.  So our formula is no longer y = 4/3 x.  It is y = 4/3 x + 20 million. \n",
    "\n",
    "In statistics, you will see this as $y = mx + b$ where b is the y-intercept.  Taking a look at our chart of points on the line, we can see that 20 million is our y-intercept."
   ]
  },
  {
   "cell_type": "markdown",
   "metadata": {
    "collapsed": true
   },
   "source": [
    "| X        | Y           | \n",
    "| ------------- |:-------------:| \n",
    "| 0      |20 million | \n",
    "| 30 million      |60 million | \n",
    "| 60 million      |100 million | "
   ]
  },
  {
   "cell_type": "markdown",
   "metadata": {},
   "source": [
    "And translating our formula into a function, we have:"
   ]
  },
  {
   "cell_type": "code",
   "execution_count": 19,
   "metadata": {
    "collapsed": true
   },
   "outputs": [],
   "source": [
    "def y(x):\n",
    "    return 4/3*x + 20000000"
   ]
  },
  {
   "cell_type": "code",
   "execution_count": 20,
   "metadata": {},
   "outputs": [
    {
     "data": {
      "text/plain": [
       "60000000.0"
      ]
     },
     "execution_count": 20,
     "metadata": {},
     "output_type": "execute_result"
    }
   ],
   "source": [
    "y(30000000)"
   ]
  },
  {
   "cell_type": "code",
   "execution_count": 21,
   "metadata": {},
   "outputs": [
    {
     "data": {
      "text/plain": [
       "100000000.0"
      ]
     },
     "execution_count": 21,
     "metadata": {},
     "output_type": "execute_result"
    }
   ],
   "source": [
    "y(60000000)"
   ]
  },
  {
   "cell_type": "markdown",
   "metadata": {},
   "source": [
    "The formula $y = mx + b$ can describe any line in a two dimensional space.  The $m$ value will change how flat or vertical the line is, and the $b$ value changes the starting point of the line. "
   ]
  },
  {
   "cell_type": "markdown",
   "metadata": {},
   "source": [
    "### Summary"
   ]
  },
  {
   "cell_type": "code",
   "execution_count": null,
   "metadata": {
    "collapsed": true
   },
   "outputs": [],
   "source": []
  }
 ],
 "metadata": {
  "kernelspec": {
   "display_name": "Python 3",
   "language": "python",
   "name": "python3"
  },
  "language_info": {
   "codemirror_mode": {
    "name": "ipython",
    "version": 3
   },
   "file_extension": ".py",
   "mimetype": "text/x-python",
   "name": "python",
   "nbconvert_exporter": "python",
   "pygments_lexer": "ipython3",
   "version": "3.6.1"
  }
 },
 "nbformat": 4,
 "nbformat_minor": 2
}
