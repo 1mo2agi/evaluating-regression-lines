{
 "cells": [
  {
   "cell_type": "markdown",
   "metadata": {},
   "source": [
    "### Improving Regression Lines"
   ]
  },
  {
   "cell_type": "markdown",
   "metadata": {},
   "source": [
    "In the previous section we saw how after choosing the slope and y-intercept values of a regression line, we use the root mean squared error to distill the goodness of fit into one number.  \n",
    "\n",
    "Now we can go beyond that to find the \"best fit\" regression line by doing the following:\n",
    "* Adjust $b$ and $m$, as these are the only things that can vary in a single-variable regression line.\n",
    "* After each adjustment calculate the average squared error \n",
    "* The regression line (that is, the values of $b$ and $m$) with our smallest average squared error is our best fit line "
   ]
  },
  {
   "cell_type": "markdown",
   "metadata": {},
   "source": [
    "Let's see this technique in action.  For this example, let's imagine that our data does not include the point when x = 0. This leaves our dataset looking like the following:"
   ]
  },
  {
   "cell_type": "code",
   "execution_count": 3,
   "metadata": {
    "collapsed": true
   },
   "outputs": [],
   "source": [
    "first_show = {'x': 100, 'y': 150}\n",
    "second_show = {'x': 200, 'y': 600}\n",
    "third_show = {'x': 400, 'y': 700}\n",
    "\n",
    "updated_shows = [first_show, second_show, third_show]"
   ]
  },
  {
   "cell_type": "markdown",
   "metadata": {},
   "source": [
    "We again take an initial guess at slope by drawing a line between the first and last points, giving us a slope of 1.833.  And then let's just take an initial stab at $b$ by setting $b$ = 100."
   ]
  },
  {
   "cell_type": "code",
   "execution_count": 6,
   "metadata": {
    "collapsed": true
   },
   "outputs": [],
   "source": [
    "def slope_between_two_points(first_point, second_point):\n",
    "    return (second_point['y'] - first_point['y'])/(second_point['x'] - first_point['x'])\n",
    "\n",
    "slope_between_two_points(updated_shows[0], updated_shows[2]) # 1.833\n",
    "\n",
    "def regression_formula(x):\n",
    "    return 1.83*x + 100\n",
    "    # change the number 0 to different numbers, to see what happens\n",
    "    \n",
    " "
   ]
  },
  {
   "cell_type": "markdown",
   "metadata": {},
   "source": [
    "From there, we calculate the `sum_of_squared_error`."
   ]
  },
  {
   "cell_type": "code",
   "execution_count": 7,
   "metadata": {
    "scrolled": true
   },
   "outputs": [
    {
     "data": {
      "text/plain": [
       "53069.0"
      ]
     },
     "execution_count": 7,
     "metadata": {},
     "output_type": "execute_result"
    }
   ],
   "source": [
    "def y(x, points):\n",
    "    point_at_x = list(filter(lambda point: point['x'] == x,points))[0]\n",
    "    return point_at_x['y']\n",
    "\n",
    "#squared error at a given point x\n",
    "def squared_error(x, movies):\n",
    "    return (y(x, movies) - regression_formula(x))**2\n",
    "\n",
    "def sum_of_squared_errors(points):\n",
    "    squared_errors = list(map(lambda point: squared_error(point['x'], points), points))\n",
    "    return sum(squared_errors)\n",
    "\n",
    "sum_of_squared_errors(updated_shows) # 18956.33"
   ]
  },
  {
   "cell_type": "markdown",
   "metadata": {},
   "source": [
    "Ok, over 18,000.  Is that a good number? Who knows. Let's get a sense of this by plugging in different numbers for *b* and seeing what happens to the average squared error."
   ]
  },
  {
   "cell_type": "markdown",
   "metadata": {},
   "source": [
    "| b        | residual sum of squared           | \n",
    "| ------------- |:-------------:| \n",
    "| 100      |53069| \n",
    "| 110      |55989 | \n",
    "| 90      |50749 | \n",
    "|80 | 49029\n",
    "|70 | 47909\n",
    "|60 | 47389\n",
    "| 50 | 47469"
   ]
  },
  {
   "cell_type": "markdown",
   "metadata": {},
   "source": [
    "Now notice that simply by setting different numbers as $b$, we get a smaller residual sum of squares (RSS), given our value of $m$ at 1.83.  Setting $b$ to 110 produced a higher error, than at 100, so we tried moving in the other direction.  We kept moving our $b$ value lower until we set $b$ = 50, at which point our error increased from the value at 60.  So, we know that a value of $b$ between 50 and 60 produces the smallest RSS, when $m$ = 1.83. "
   ]
  },
  {
   "cell_type": "markdown",
   "metadata": {},
   "source": [
    "Let's plot our table, using plotly.  First, because we will be changing $b$, and eventually $m$, let's change our regression formula so that we can change any of those values."
   ]
  },
  {
   "cell_type": "markdown",
   "metadata": {},
   "source": [
    "### Using the fitted line"
   ]
  },
  {
   "cell_type": "code",
   "execution_count": null,
   "metadata": {
    "collapsed": true
   },
   "outputs": [],
   "source": [
    "def regression_formula_variable(x, m, b):\n",
    "    return m*x + b"
   ]
  },
  {
   "cell_type": "markdown",
   "metadata": {},
   "source": [
    "Now we update our functions that calculate the error to use our new function, and to allow us to pass through the values of $b$ and $m$."
   ]
  },
  {
   "cell_type": "code",
   "execution_count": 15,
   "metadata": {},
   "outputs": [
    {
     "data": {
      "text/plain": [
       "[(10, 53789.0),\n",
       " (20, 51309.0),\n",
       " (30, 49429.0),\n",
       " (40, 48149.0),\n",
       " (50, 47469.0),\n",
       " (60, 47389.0),\n",
       " (70, 47909.0),\n",
       " (80, 49029.0),\n",
       " (90, 50749.0),\n",
       " (100, 53069.0),\n",
       " (110, 55989.0)]"
      ]
     },
     "execution_count": 15,
     "metadata": {},
     "output_type": "execute_result"
    }
   ],
   "source": [
    "def squared_error_variable(point, m, b):\n",
    "    y_hat = regression_formula_variable(point['x'], m, b)\n",
    "    return (point['y'] - y_hat)**2\n",
    "\n",
    "def squared_errors_variable(points, m, b):\n",
    "    return list(map(lambda point: squared_error_variable(point, m, b), points))\n",
    "\n",
    "def sum_of_squared_error_variable(points, m, b):\n",
    "    return sum(squared_errors_variable(points, m, b))\n",
    "\n",
    "b_values = list(range(10, 120, 10)) # [10, 20, 30, 40, 50, 60, 70, 80, 90, 100, 110]\n",
    "errors = list(map(lambda b_value: sum_of_squared_error_variable(updated_shows, 1.83, b_value), b_values))\n",
    "error_chart = list(zip(b_values, errors))\n",
    "error_chart"
   ]
  },
  {
   "cell_type": "markdown",
   "metadata": {},
   "source": [
    "Above is our error chart.  Note that it is identical to the data in the table we have above.  If we plot this data of the b-values, and the corresponding squared errors generated from them, we see that the data makes an curve."
   ]
  },
  {
   "cell_type": "code",
   "execution_count": 16,
   "metadata": {},
   "outputs": [
    {
     "data": {
      "application/vnd.plotly.v1+json": {
       "data": [
        {
         "type": "scatter",
         "x": [
          10,
          20,
          30,
          40,
          50,
          60,
          70,
          80,
          90,
          100,
          110
         ],
         "y": [
          53789,
          51309,
          49429,
          48149,
          47469,
          47389,
          47909,
          49029,
          50749,
          53069,
          55989
         ]
        }
       ],
       "layout": {
        "title": "Cost Function",
        "xaxis": {
         "title": "B value",
         "zeroline": false
        },
        "yaxis": {
         "title": "Sum Squared Error",
         "zeroline": false
        }
       }
      },
      "text/html": [
       "<div id=\"d97230c0-de30-43d1-9645-76821112ebab\" style=\"height: 525px; width: 100%;\" class=\"plotly-graph-div\"></div><script type=\"text/javascript\">require([\"plotly\"], function(Plotly) { window.PLOTLYENV=window.PLOTLYENV || {};window.PLOTLYENV.BASE_URL=\"https://plot.ly\";Plotly.newPlot(\"d97230c0-de30-43d1-9645-76821112ebab\", [{\"type\": \"scatter\", \"x\": [10, 20, 30, 40, 50, 60, 70, 80, 90, 100, 110], \"y\": [53789.0, 51309.0, 49429.0, 48149.0, 47469.0, 47389.0, 47909.0, 49029.0, 50749.0, 53069.0, 55989.0]}], {\"title\": \"Cost Function\", \"yaxis\": {\"zeroline\": false, \"title\": \"Sum Squared Error\"}, \"xaxis\": {\"zeroline\": false, \"title\": \"B value\"}}, {\"showLink\": true, \"linkText\": \"Export to plot.ly\"})});</script>"
      ],
      "text/vnd.plotly.v1+html": [
       "<div id=\"d97230c0-de30-43d1-9645-76821112ebab\" style=\"height: 525px; width: 100%;\" class=\"plotly-graph-div\"></div><script type=\"text/javascript\">require([\"plotly\"], function(Plotly) { window.PLOTLYENV=window.PLOTLYENV || {};window.PLOTLYENV.BASE_URL=\"https://plot.ly\";Plotly.newPlot(\"d97230c0-de30-43d1-9645-76821112ebab\", [{\"type\": \"scatter\", \"x\": [10, 20, 30, 40, 50, 60, 70, 80, 90, 100, 110], \"y\": [53789.0, 51309.0, 49429.0, 48149.0, 47469.0, 47389.0, 47909.0, 49029.0, 50749.0, 53069.0, 55989.0]}], {\"title\": \"Cost Function\", \"yaxis\": {\"zeroline\": false, \"title\": \"Sum Squared Error\"}, \"xaxis\": {\"zeroline\": false, \"title\": \"B value\"}}, {\"showLink\": true, \"linkText\": \"Export to plot.ly\"})});</script>"
      ]
     },
     "metadata": {},
     "output_type": "display_data"
    }
   ],
   "source": [
    "\n",
    "\n",
    "cost_function_trace = graph_objs.Scatter(\n",
    "    x=list(map(lambda error: error[0], error_chart)),\n",
    "    y=list(map(lambda error: error[1], error_chart)),\n",
    ")\n",
    "\n",
    "layout = dict(title = 'Cost Function',\n",
    "              yaxis = dict(zeroline = False, title= 'Sum Squared Error'),\n",
    "              xaxis = dict(zeroline = False, title= 'B value')\n",
    "             )\n",
    "plotly.offline.iplot(dict(data=[cost_function_trace], layout=layout))"
   ]
  },
  {
   "cell_type": "markdown",
   "metadata": {},
   "source": [
    "That smily face above, is called the **cost curve**.  It shows the errors of different levels of B.  We want to reduce the error, so to do that we need to find the value of b such that the sum of squared errors is lowest - that appears to be when b is 60.  So that means that our y intercept, when x is 1.83 should be 60."
   ]
  },
  {
   "cell_type": "markdown",
   "metadata": {},
   "source": [
    "If we show the regression line side by side of the points cost curve, you can see how the two numbers relate."
   ]
  },
  {
   "cell_type": "markdown",
   "metadata": {},
   "source": [
    "> Don't stress about the below code.  It's not important -- it's just used to generate lines in our plots.  "
   ]
  },
  {
   "cell_type": "code",
   "execution_count": null,
   "metadata": {
    "collapsed": true
   },
   "outputs": [],
   "source": [
    "def generate_regression_line(ending_x, m, b):\n",
    "    y_hat = m*ending_x + b\n",
    "    return {\n",
    "    'type':'line',\n",
    "    'x0': 0,\n",
    "    'y0': b,\n",
    "    'x1': ending_x,\n",
    "    'y1': y_hat,\n",
    "    'xref': 'x1',\n",
    "    'yref': 'y1',\n",
    "    'line': {\n",
    "        'color': 'rgb(55, 128, 191)',\n",
    "        'width': 3,\n",
    "        }\n",
    "    }\n",
    "line = generate_regression_line(400, 1.8, 500)\n",
    "\n",
    "def generate_cost_line(errors, b):\n",
    "    return {\n",
    "    'type':'line',\n",
    "    'x0': b,\n",
    "    'y0': 0,\n",
    "    'x1': b,\n",
    "    'y1': max(errors),\n",
    "    'xref': 'x2',\n",
    "    'yref': 'y1',\n",
    "    'line': {\n",
    "        'color': 'rgb(55, 128, 191)',\n",
    "        'width': 3,\n",
    "        }\n",
    "    }\n"
   ]
  },
  {
   "cell_type": "markdown",
   "metadata": {},
   "source": [
    "> Now the below code, still doesn't need to be understood.  But do change the value of b, and see how the plots below adjust."
   ]
  },
  {
   "cell_type": "code",
   "execution_count": 13,
   "metadata": {},
   "outputs": [
    {
     "data": {
      "text/html": [
       "<script>requirejs.config({paths: { 'plotly': ['https://cdn.plot.ly/plotly-latest.min']},});if(!window.Plotly) {{require(['plotly'],function(plotly) {window.Plotly=plotly;});}}</script>"
      ],
      "text/vnd.plotly.v1+html": [
       "<script>requirejs.config({paths: { 'plotly': ['https://cdn.plot.ly/plotly-latest.min']},});if(!window.Plotly) {{require(['plotly'],function(plotly) {window.Plotly=plotly;});}}</script>"
      ]
     },
     "metadata": {},
     "output_type": "display_data"
    },
    {
     "name": "stdout",
     "output_type": "stream",
     "text": [
      "This is the format of your plot grid:\n",
      "[ (1,1) x1,y1 ]  [ (1,2) x2,y2 ]\n",
      "\n"
     ]
    },
    {
     "data": {
      "application/vnd.plotly.v1+json": {
       "data": [
        {
         "type": "scatter",
         "x": [
          10,
          20,
          30,
          40,
          50,
          60,
          70,
          80,
          90,
          100,
          110
         ],
         "xaxis": "x2",
         "y": [
          46.333333333333336,
          36.333333333333336,
          26.333333333333332,
          16.333333333333332,
          6.333333333333333,
          -3.6666666666666665,
          -13.666666666666666,
          -23.666666666666668,
          -33.666666666666664,
          -43.666666666666664,
          -53.666666666666664
         ],
         "yaxis": "y2"
        },
        {
         "mode": "markers",
         "type": "scatter",
         "x": [
          100,
          200,
          400
         ],
         "xaxis": "x1",
         "y": [
          150,
          600,
          700
         ],
         "yaxis": "y1"
        }
       ],
       "layout": {
        "shapes": [
         {
          "line": {
           "color": "rgb(55, 128, 191)",
           "width": 3
          },
          "type": "line",
          "x0": 0,
          "x1": 400,
          "xref": "x1",
          "y0": 80,
          "y1": 800,
          "yref": "y1"
         },
         {
          "line": {
           "color": "rgb(55, 128, 191)",
           "width": 3
          },
          "type": "line",
          "x0": 80,
          "x1": 80,
          "xref": "x2",
          "y0": 0,
          "y1": 46.333333333333336,
          "yref": "y1"
         }
        ],
        "xaxis1": {
         "anchor": "y1",
         "domain": [
          0,
          0.45
         ]
        },
        "xaxis2": {
         "anchor": "y2",
         "domain": [
          0.55,
          1
         ]
        },
        "yaxis1": {
         "anchor": "x1",
         "domain": [
          0,
          1
         ],
         "range": [
          0,
          1000
         ]
        },
        "yaxis2": {
         "anchor": "x2",
         "domain": [
          0,
          1
         ]
        }
       }
      },
      "text/html": [
       "<div id=\"61ca971d-f262-436a-af42-34f18783c7f6\" style=\"height: 525px; width: 100%;\" class=\"plotly-graph-div\"></div><script type=\"text/javascript\">require([\"plotly\"], function(Plotly) { window.PLOTLYENV=window.PLOTLYENV || {};window.PLOTLYENV.BASE_URL=\"https://plot.ly\";Plotly.newPlot(\"61ca971d-f262-436a-af42-34f18783c7f6\", [{\"type\": \"scatter\", \"x\": [10, 20, 30, 40, 50, 60, 70, 80, 90, 100, 110], \"y\": [46.333333333333336, 36.333333333333336, 26.333333333333332, 16.333333333333332, 6.333333333333333, -3.6666666666666665, -13.666666666666666, -23.666666666666668, -33.666666666666664, -43.666666666666664, -53.666666666666664], \"xaxis\": \"x2\", \"yaxis\": \"y2\"}, {\"type\": \"scatter\", \"x\": [100, 200, 400], \"y\": [150, 600, 700], \"mode\": \"markers\", \"xaxis\": \"x1\", \"yaxis\": \"y1\"}], {\"xaxis1\": {\"domain\": [0.0, 0.45], \"anchor\": \"y1\"}, \"yaxis1\": {\"domain\": [0.0, 1.0], \"anchor\": \"x1\", \"range\": [0, 1000]}, \"xaxis2\": {\"domain\": [0.55, 1.0], \"anchor\": \"y2\"}, \"yaxis2\": {\"domain\": [0.0, 1.0], \"anchor\": \"x2\"}, \"shapes\": [{\"type\": \"line\", \"x0\": 0, \"y0\": 80, \"x1\": 400, \"y1\": 800.0, \"xref\": \"x1\", \"yref\": \"y1\", \"line\": {\"color\": \"rgb(55, 128, 191)\", \"width\": 3}}, {\"type\": \"line\", \"x0\": 80, \"y0\": 0, \"x1\": 80, \"y1\": 46.333333333333336, \"xref\": \"x2\", \"yref\": \"y1\", \"line\": {\"color\": \"rgb(55, 128, 191)\", \"width\": 3}}]}, {\"showLink\": true, \"linkText\": \"Export to plot.ly\"})});</script>"
      ],
      "text/vnd.plotly.v1+html": [
       "<div id=\"61ca971d-f262-436a-af42-34f18783c7f6\" style=\"height: 525px; width: 100%;\" class=\"plotly-graph-div\"></div><script type=\"text/javascript\">require([\"plotly\"], function(Plotly) { window.PLOTLYENV=window.PLOTLYENV || {};window.PLOTLYENV.BASE_URL=\"https://plot.ly\";Plotly.newPlot(\"61ca971d-f262-436a-af42-34f18783c7f6\", [{\"type\": \"scatter\", \"x\": [10, 20, 30, 40, 50, 60, 70, 80, 90, 100, 110], \"y\": [46.333333333333336, 36.333333333333336, 26.333333333333332, 16.333333333333332, 6.333333333333333, -3.6666666666666665, -13.666666666666666, -23.666666666666668, -33.666666666666664, -43.666666666666664, -53.666666666666664], \"xaxis\": \"x2\", \"yaxis\": \"y2\"}, {\"type\": \"scatter\", \"x\": [100, 200, 400], \"y\": [150, 600, 700], \"mode\": \"markers\", \"xaxis\": \"x1\", \"yaxis\": \"y1\"}], {\"xaxis1\": {\"domain\": [0.0, 0.45], \"anchor\": \"y1\"}, \"yaxis1\": {\"domain\": [0.0, 1.0], \"anchor\": \"x1\", \"range\": [0, 1000]}, \"xaxis2\": {\"domain\": [0.55, 1.0], \"anchor\": \"y2\"}, \"yaxis2\": {\"domain\": [0.0, 1.0], \"anchor\": \"x2\"}, \"shapes\": [{\"type\": \"line\", \"x0\": 0, \"y0\": 80, \"x1\": 400, \"y1\": 800.0, \"xref\": \"x1\", \"yref\": \"y1\", \"line\": {\"color\": \"rgb(55, 128, 191)\", \"width\": 3}}, {\"type\": \"line\", \"x0\": 80, \"y0\": 0, \"x1\": 80, \"y1\": 46.333333333333336, \"xref\": \"x2\", \"yref\": \"y1\", \"line\": {\"color\": \"rgb(55, 128, 191)\", \"width\": 3}}]}, {\"showLink\": true, \"linkText\": \"Export to plot.ly\"})});</script>"
      ]
     },
     "metadata": {},
     "output_type": "display_data"
    }
   ],
   "source": [
    "import plotly\n",
    "from plotly import graph_objs, tools\n",
    "plotly.offline.init_notebook_mode(connected=True)\n",
    "\n",
    "fig = tools.make_subplots(rows=1, cols=2)\n",
    "\n",
    "\n",
    "\n",
    "cost_function_trace = graph_objs.Scatter(\n",
    "    x=list(map(lambda error: error[0], error_chart)),\n",
    "    y=list(map(lambda error: error[1], error_chart)),\n",
    ")\n",
    "fig.append_trace(cost_function_trace, 1, 2)\n",
    "\n",
    "scatter_trace = graph_objs.Scatter(\n",
    "    x=list(map(lambda show: show['x'], updated_shows)),\n",
    "    y=list(map(lambda show: show['y'], updated_shows)),\n",
    "    mode=\"markers\"\n",
    ")\n",
    "\n",
    "\n",
    "##############\n",
    "\n",
    "### CHANGE THIS VALUE OF B\n",
    "\n",
    "b = 80\n",
    "##############\n",
    "\n",
    "cost_line = generate_cost_line(errors, b)\n",
    "regression_line = generate_regression_line(400, 1.8, b)\n",
    "\n",
    "fig.append_trace(scatter_trace, 1, 1)\n",
    "\n",
    "fig['layout'].update(shapes=[regression_line, cost_line])\n",
    "fig['layout']['yaxis1'].update(range=[0, 1000])\n",
    "\n",
    "plotly.offline.iplot(fig)"
   ]
  },
  {
   "cell_type": "markdown",
   "metadata": {},
   "source": [
    "> As you change the value of *b*, the regression line moves up and down.  Also, as you change the value of *b* the vertical line along the cost curve shifts left or right, with the intersecting point being the value of b and corresponding sum of squared error."
   ]
  },
  {
   "cell_type": "markdown",
   "metadata": {},
   "source": [
    "### Automatically adjusting a regression line"
   ]
  },
  {
   "cell_type": "markdown",
   "metadata": {},
   "source": [
    "Now so far we have improved our regression line, by manually adjusting our estimated y intercept, and seeing the least squares.  What if we wanted to use code to do this process automatically.\n",
    "\n",
    "Well what you can imagine us doing is adjusting our values of b.  Now we don't want to think about the squared errors anymore, because squared errors does not tell us if our estimates are too high or too low.  Instead look at what happens by considering absolute error.    "
   ]
  },
  {
   "cell_type": "code",
   "execution_count": 26,
   "metadata": {},
   "outputs": [
    {
     "data": {
      "text/plain": [
       "[(10, 46.333333333333336),\n",
       " (20, 36.333333333333336),\n",
       " (30, 26.333333333333332),\n",
       " (40, 16.333333333333332),\n",
       " (50, 6.333333333333333),\n",
       " (60, -3.6666666666666665),\n",
       " (70, -13.666666666666666),\n",
       " (80, -23.666666666666668),\n",
       " (90, -33.666666666666664),\n",
       " (100, -43.666666666666664),\n",
       " (110, -53.666666666666664)]"
      ]
     },
     "execution_count": 26,
     "metadata": {},
     "output_type": "execute_result"
    }
   ],
   "source": [
    "def regression_formula_variable(x, m, b):\n",
    "    return m*x + b\n",
    "\n",
    "def error_variable(point, m, b):\n",
    "    y_hat = regression_formula_variable(point['x'], m, b)\n",
    "    return (point['y'] - y_hat)\n",
    "\n",
    "def errors_variable(points, m, b):\n",
    "    return list(map(lambda point: error_variable(point, m, b), points))\n",
    "\n",
    "def average_error_variable(points, m, b):\n",
    "    return sum(errors_variable(points, m, b))/len(points)\n",
    "\n",
    "b_values = list(range(10, 120, 10)) # [10, 20, 30, 40, 50, 60, 70, 80, 90, 100, 110]\n",
    "errors = list(map(lambda b_value: average_error_variable(updated_shows, 1.83, b_value), b_values))\n",
    "linear_error_chart = list(zip(b_values, errors))\n",
    "linear_error_chart"
   ]
  },
  {
   "cell_type": "code",
   "execution_count": 22,
   "metadata": {},
   "outputs": [
    {
     "name": "stdout",
     "output_type": "stream",
     "text": [
      "This is the format of your plot grid:\n",
      "[ (1,1) x1,y1 ]  [ (1,2) x2,y2 ]\n",
      "\n"
     ]
    },
    {
     "data": {
      "application/vnd.plotly.v1+json": {
       "data": [
        {
         "type": "scatter",
         "x": [
          10,
          20,
          30,
          40,
          50,
          60,
          70,
          80,
          90,
          100,
          110
         ],
         "xaxis": "x2",
         "y": [
          46.333333333333336,
          36.333333333333336,
          26.333333333333332,
          16.333333333333332,
          6.333333333333333,
          -3.6666666666666665,
          -13.666666666666666,
          -23.666666666666668,
          -33.666666666666664,
          -43.666666666666664,
          -53.666666666666664
         ],
         "yaxis": "y2"
        },
        {
         "mode": "markers",
         "type": "scatter",
         "x": [
          100,
          200,
          400
         ],
         "xaxis": "x1",
         "y": [
          150,
          600,
          700
         ],
         "yaxis": "y1"
        }
       ],
       "layout": {
        "shapes": [
         {
          "line": {
           "color": "rgb(55, 128, 191)",
           "width": 3
          },
          "type": "line",
          "x0": 0,
          "x1": 400,
          "xref": "x1",
          "y0": 40,
          "y1": 760,
          "yref": "y1"
         },
         {
          "line": {
           "color": "rgb(55, 128, 191)",
           "width": 3
          },
          "type": "line",
          "x0": 40,
          "x1": 40,
          "xref": "x2",
          "y0": 0,
          "y1": [
           110,
           -53.666666666666664
          ],
          "yref": "y1"
         }
        ],
        "xaxis1": {
         "anchor": "y1",
         "domain": [
          0,
          0.45
         ]
        },
        "xaxis2": {
         "anchor": "y2",
         "domain": [
          0.55,
          1
         ]
        },
        "yaxis1": {
         "anchor": "x1",
         "domain": [
          0,
          1
         ],
         "range": [
          0,
          1000
         ]
        },
        "yaxis2": {
         "anchor": "x2",
         "domain": [
          0,
          1
         ]
        }
       }
      },
      "text/html": [
       "<div id=\"216a27fc-0502-475d-9dcb-dffbf045ff3e\" style=\"height: 525px; width: 100%;\" class=\"plotly-graph-div\"></div><script type=\"text/javascript\">require([\"plotly\"], function(Plotly) { window.PLOTLYENV=window.PLOTLYENV || {};window.PLOTLYENV.BASE_URL=\"https://plot.ly\";Plotly.newPlot(\"216a27fc-0502-475d-9dcb-dffbf045ff3e\", [{\"type\": \"scatter\", \"x\": [10, 20, 30, 40, 50, 60, 70, 80, 90, 100, 110], \"y\": [46.333333333333336, 36.333333333333336, 26.333333333333332, 16.333333333333332, 6.333333333333333, -3.6666666666666665, -13.666666666666666, -23.666666666666668, -33.666666666666664, -43.666666666666664, -53.666666666666664], \"xaxis\": \"x2\", \"yaxis\": \"y2\"}, {\"type\": \"scatter\", \"x\": [100, 200, 400], \"y\": [150, 600, 700], \"mode\": \"markers\", \"xaxis\": \"x1\", \"yaxis\": \"y1\"}], {\"xaxis1\": {\"domain\": [0.0, 0.45], \"anchor\": \"y1\"}, \"yaxis1\": {\"domain\": [0.0, 1.0], \"anchor\": \"x1\", \"range\": [0, 1000]}, \"xaxis2\": {\"domain\": [0.55, 1.0], \"anchor\": \"y2\"}, \"yaxis2\": {\"domain\": [0.0, 1.0], \"anchor\": \"x2\"}, \"shapes\": [{\"type\": \"line\", \"x0\": 0, \"y0\": 40, \"x1\": 400, \"y1\": 760.0, \"xref\": \"x1\", \"yref\": \"y1\", \"line\": {\"color\": \"rgb(55, 128, 191)\", \"width\": 3}}, {\"type\": \"line\", \"x0\": 40, \"y0\": 0, \"x1\": 40, \"y1\": [110, -53.666666666666664], \"xref\": \"x2\", \"yref\": \"y1\", \"line\": {\"color\": \"rgb(55, 128, 191)\", \"width\": 3}}]}, {\"showLink\": true, \"linkText\": \"Export to plot.ly\"})});</script>"
      ],
      "text/vnd.plotly.v1+html": [
       "<div id=\"216a27fc-0502-475d-9dcb-dffbf045ff3e\" style=\"height: 525px; width: 100%;\" class=\"plotly-graph-div\"></div><script type=\"text/javascript\">require([\"plotly\"], function(Plotly) { window.PLOTLYENV=window.PLOTLYENV || {};window.PLOTLYENV.BASE_URL=\"https://plot.ly\";Plotly.newPlot(\"216a27fc-0502-475d-9dcb-dffbf045ff3e\", [{\"type\": \"scatter\", \"x\": [10, 20, 30, 40, 50, 60, 70, 80, 90, 100, 110], \"y\": [46.333333333333336, 36.333333333333336, 26.333333333333332, 16.333333333333332, 6.333333333333333, -3.6666666666666665, -13.666666666666666, -23.666666666666668, -33.666666666666664, -43.666666666666664, -53.666666666666664], \"xaxis\": \"x2\", \"yaxis\": \"y2\"}, {\"type\": \"scatter\", \"x\": [100, 200, 400], \"y\": [150, 600, 700], \"mode\": \"markers\", \"xaxis\": \"x1\", \"yaxis\": \"y1\"}], {\"xaxis1\": {\"domain\": [0.0, 0.45], \"anchor\": \"y1\"}, \"yaxis1\": {\"domain\": [0.0, 1.0], \"anchor\": \"x1\", \"range\": [0, 1000]}, \"xaxis2\": {\"domain\": [0.55, 1.0], \"anchor\": \"y2\"}, \"yaxis2\": {\"domain\": [0.0, 1.0], \"anchor\": \"x2\"}, \"shapes\": [{\"type\": \"line\", \"x0\": 0, \"y0\": 40, \"x1\": 400, \"y1\": 760.0, \"xref\": \"x1\", \"yref\": \"y1\", \"line\": {\"color\": \"rgb(55, 128, 191)\", \"width\": 3}}, {\"type\": \"line\", \"x0\": 40, \"y0\": 0, \"x1\": 40, \"y1\": [110, -53.666666666666664], \"xref\": \"x2\", \"yref\": \"y1\", \"line\": {\"color\": \"rgb(55, 128, 191)\", \"width\": 3}}]}, {\"showLink\": true, \"linkText\": \"Export to plot.ly\"})});</script>"
      ]
     },
     "metadata": {},
     "output_type": "display_data"
    }
   ],
   "source": [
    "\n",
    "\n",
    "##############\n",
    "\n",
    "### CHANGE THIS VALUE OF M\n",
    "\n",
    "b = 40\n",
    "##############\n",
    "\n",
    "cost_line = generate_cost_line(linear_error_chart, b)\n",
    "regression_line = generate_regression_line(400, 1.8, b)\n",
    "fig = make_subplots()\n",
    "# add_cost_function_trace(fig, linear_error_chart)\n",
    "add_scatter_plot(updated_shows)\n",
    "\n",
    "fig['layout'].update(shapes=[regression_line, cost_line])\n",
    "fig['layout']['yaxis1'].update(range=[0, 1000])\n",
    "\n",
    "plotly.offline.iplot(fig)"
   ]
  },
  {
   "cell_type": "markdown",
   "metadata": {},
   "source": [
    "Now the charts above, show something interesting.  Our regression line stays the same.  And our error function changes to be linear.  That is if we increase our value of *b*, we expect the average deviation to change by a similar amount.  So now imagine we take our first guess of b, and set b equal to 100.  You can see, from the plot of the average error on the right that this gives us an average error of -43.67.  So if changing our b value a certain amount, changes our average error by the same amount, we can simply decrease our b value by 43.67."
   ]
  },
  {
   "cell_type": "code",
   "execution_count": 25,
   "metadata": {},
   "outputs": [
    {
     "data": {
      "text/plain": [
       "56.33333333333333"
      ]
     },
     "execution_count": 25,
     "metadata": {},
     "output_type": "execute_result"
    }
   ],
   "source": [
    "error = average_error_variable(updated_shows, 1.83, b)\n",
    "\n",
    "b = b + error\n",
    "b # 56.33333333333333"
   ]
  },
  {
   "cell_type": "markdown",
   "metadata": {},
   "source": [
    "So this is pretty cool, even by guessing our b value incorrectly the first time, we can simply look at the average error and make an adjustment."
   ]
  },
  {
   "cell_type": "markdown",
   "metadata": {},
   "source": [
    "### Adjusting the slope value"
   ]
  },
  {
   "cell_type": "markdown",
   "metadata": {},
   "source": [
    "Now that we have gotten a sense for how we can adjust our y-intercept value, let's see if we can take a similar with adjusting our slope.  We came up with an initial guess of our slope simply by drawing a line between two of our points, and using the slope for that line.  That gave us an slope of 1.83.  Now let's see if we can improve on that. \n",
    "\n",
    "Ok, so we adjusted our y-intercept value by seeing how a change in the y-intercept changed our mean error.  Let's see how a change in the slope changes our mean error."
   ]
  },
  {
   "cell_type": "code",
   "execution_count": 32,
   "metadata": {},
   "outputs": [
    {
     "data": {
      "text/plain": [
       "[(0.0, 427.0033333333333),\n",
       " (0.1, 403.6699999999999),\n",
       " (0.2, 380.33666666666676),\n",
       " (0.3, 357.0033333333334),\n",
       " (0.4, 333.67)]"
      ]
     },
     "execution_count": 32,
     "metadata": {},
     "output_type": "execute_result"
    }
   ],
   "source": [
    "ints = list(range(0, 30, 1))\n",
    "m_values = list(map(lambda x: x/10.0, ints))\n",
    "m_value_errors = list(map(lambda m_value: average_error_variable(updated_shows, m_value, 56.33), m_values))\n",
    "m_linear_error_chart = list(zip(m_values, m_value_errors))\n",
    "m_linear_error_chart[:5]"
   ]
  },
  {
   "cell_type": "code",
   "execution_count": 47,
   "metadata": {},
   "outputs": [
    {
     "name": "stdout",
     "output_type": "stream",
     "text": [
      "This is the format of your plot grid:\n",
      "[ (1,1) x1,y1 ]  [ (1,2) x2,y2 ]\n",
      "\n"
     ]
    },
    {
     "data": {
      "application/vnd.plotly.v1+json": {
       "data": [
        {
         "type": "scatter",
         "x": [
          0,
          0.1,
          0.2,
          0.3,
          0.4,
          0.5,
          0.6,
          0.7,
          0.8,
          0.9,
          1,
          1.1,
          1.2,
          1.3,
          1.4,
          1.5,
          1.6,
          1.7,
          1.8,
          1.9,
          2,
          2.1,
          2.2,
          2.3,
          2.4,
          2.5,
          2.6,
          2.7,
          2.8,
          2.9
         ],
         "xaxis": "x2",
         "y": [
          427.0033333333333,
          403.6699999999999,
          380.33666666666676,
          357.0033333333334,
          333.67,
          310.33666666666664,
          287.00333333333333,
          263.67,
          240.33666666666667,
          217.00333333333333,
          193.67,
          170.33666666666662,
          147.00333333333333,
          123.67,
          100.33666666666666,
          77.00333333333333,
          53.669999999999995,
          30.336666666666662,
          7.00333333333333,
          -16.330000000000002,
          -39.663333333333334,
          -62.99666666666667,
          -86.33000000000008,
          -109.66333333333328,
          -132.9966666666667,
          -156.32999999999998,
          -179.66333333333333,
          -202.99666666666667,
          -226.33,
          -249.66333333333333
         ],
         "yaxis": "y2"
        },
        {
         "mode": "markers",
         "type": "scatter",
         "x": [
          100,
          200,
          400
         ],
         "xaxis": "x1",
         "y": [
          150,
          600,
          700
         ],
         "yaxis": "y1"
        }
       ],
       "layout": {
        "shapes": [
         {
          "line": {
           "color": "rgb(55, 128, 191)",
           "width": 3
          },
          "type": "line",
          "x0": 0,
          "x1": 400,
          "xref": "x1",
          "y0": 56.33,
          "y1": 1256.33,
          "yref": "y1"
         },
         {
          "line": {
           "color": "rgb(55, 128, 191)",
           "width": 3
          },
          "type": "line",
          "x0": 3,
          "x1": 3,
          "xref": "x2",
          "y0": 0,
          "y1": 46.333333333333336,
          "yref": "y1"
         }
        ],
        "xaxis1": {
         "anchor": "y1",
         "domain": [
          0,
          0.45
         ]
        },
        "xaxis2": {
         "anchor": "y2",
         "domain": [
          0.55,
          1
         ]
        },
        "yaxis1": {
         "anchor": "x1",
         "domain": [
          0,
          1
         ],
         "range": [
          0,
          1500
         ]
        },
        "yaxis2": {
         "anchor": "x2",
         "domain": [
          0,
          1
         ]
        }
       }
      },
      "text/html": [
       "<div id=\"11a40a4a-b78e-4d98-9867-479b8c3fa772\" style=\"height: 525px; width: 100%;\" class=\"plotly-graph-div\"></div><script type=\"text/javascript\">require([\"plotly\"], function(Plotly) { window.PLOTLYENV=window.PLOTLYENV || {};window.PLOTLYENV.BASE_URL=\"https://plot.ly\";Plotly.newPlot(\"11a40a4a-b78e-4d98-9867-479b8c3fa772\", [{\"type\": \"scatter\", \"x\": [0.0, 0.1, 0.2, 0.3, 0.4, 0.5, 0.6, 0.7, 0.8, 0.9, 1.0, 1.1, 1.2, 1.3, 1.4, 1.5, 1.6, 1.7, 1.8, 1.9, 2.0, 2.1, 2.2, 2.3, 2.4, 2.5, 2.6, 2.7, 2.8, 2.9], \"y\": [427.0033333333333, 403.6699999999999, 380.33666666666676, 357.0033333333334, 333.67, 310.33666666666664, 287.00333333333333, 263.67, 240.33666666666667, 217.00333333333333, 193.67, 170.33666666666662, 147.00333333333333, 123.67, 100.33666666666666, 77.00333333333333, 53.669999999999995, 30.336666666666662, 7.00333333333333, -16.330000000000002, -39.663333333333334, -62.99666666666667, -86.33000000000008, -109.66333333333328, -132.9966666666667, -156.32999999999998, -179.66333333333333, -202.99666666666667, -226.33, -249.66333333333333], \"xaxis\": \"x2\", \"yaxis\": \"y2\"}, {\"type\": \"scatter\", \"x\": [100, 200, 400], \"y\": [150, 600, 700], \"mode\": \"markers\", \"xaxis\": \"x1\", \"yaxis\": \"y1\"}], {\"xaxis1\": {\"domain\": [0.0, 0.45], \"anchor\": \"y1\"}, \"yaxis1\": {\"domain\": [0.0, 1.0], \"anchor\": \"x1\", \"range\": [0, 1500]}, \"xaxis2\": {\"domain\": [0.55, 1.0], \"anchor\": \"y2\"}, \"yaxis2\": {\"domain\": [0.0, 1.0], \"anchor\": \"x2\"}, \"shapes\": [{\"type\": \"line\", \"x0\": 0, \"y0\": 56.33, \"x1\": 400, \"y1\": 1256.33, \"xref\": \"x1\", \"yref\": \"y1\", \"line\": {\"color\": \"rgb(55, 128, 191)\", \"width\": 3}}, {\"type\": \"line\", \"x0\": 3.0, \"y0\": 0, \"x1\": 3.0, \"y1\": 46.333333333333336, \"xref\": \"x2\", \"yref\": \"y1\", \"line\": {\"color\": \"rgb(55, 128, 191)\", \"width\": 3}}]}, {\"showLink\": true, \"linkText\": \"Export to plot.ly\"})});</script>"
      ],
      "text/vnd.plotly.v1+html": [
       "<div id=\"11a40a4a-b78e-4d98-9867-479b8c3fa772\" style=\"height: 525px; width: 100%;\" class=\"plotly-graph-div\"></div><script type=\"text/javascript\">require([\"plotly\"], function(Plotly) { window.PLOTLYENV=window.PLOTLYENV || {};window.PLOTLYENV.BASE_URL=\"https://plot.ly\";Plotly.newPlot(\"11a40a4a-b78e-4d98-9867-479b8c3fa772\", [{\"type\": \"scatter\", \"x\": [0.0, 0.1, 0.2, 0.3, 0.4, 0.5, 0.6, 0.7, 0.8, 0.9, 1.0, 1.1, 1.2, 1.3, 1.4, 1.5, 1.6, 1.7, 1.8, 1.9, 2.0, 2.1, 2.2, 2.3, 2.4, 2.5, 2.6, 2.7, 2.8, 2.9], \"y\": [427.0033333333333, 403.6699999999999, 380.33666666666676, 357.0033333333334, 333.67, 310.33666666666664, 287.00333333333333, 263.67, 240.33666666666667, 217.00333333333333, 193.67, 170.33666666666662, 147.00333333333333, 123.67, 100.33666666666666, 77.00333333333333, 53.669999999999995, 30.336666666666662, 7.00333333333333, -16.330000000000002, -39.663333333333334, -62.99666666666667, -86.33000000000008, -109.66333333333328, -132.9966666666667, -156.32999999999998, -179.66333333333333, -202.99666666666667, -226.33, -249.66333333333333], \"xaxis\": \"x2\", \"yaxis\": \"y2\"}, {\"type\": \"scatter\", \"x\": [100, 200, 400], \"y\": [150, 600, 700], \"mode\": \"markers\", \"xaxis\": \"x1\", \"yaxis\": \"y1\"}], {\"xaxis1\": {\"domain\": [0.0, 0.45], \"anchor\": \"y1\"}, \"yaxis1\": {\"domain\": [0.0, 1.0], \"anchor\": \"x1\", \"range\": [0, 1500]}, \"xaxis2\": {\"domain\": [0.55, 1.0], \"anchor\": \"y2\"}, \"yaxis2\": {\"domain\": [0.0, 1.0], \"anchor\": \"x2\"}, \"shapes\": [{\"type\": \"line\", \"x0\": 0, \"y0\": 56.33, \"x1\": 400, \"y1\": 1256.33, \"xref\": \"x1\", \"yref\": \"y1\", \"line\": {\"color\": \"rgb(55, 128, 191)\", \"width\": 3}}, {\"type\": \"line\", \"x0\": 3.0, \"y0\": 0, \"x1\": 3.0, \"y1\": 46.333333333333336, \"xref\": \"x2\", \"yref\": \"y1\", \"line\": {\"color\": \"rgb(55, 128, 191)\", \"width\": 3}}]}, {\"showLink\": true, \"linkText\": \"Export to plot.ly\"})});</script>"
      ]
     },
     "metadata": {},
     "output_type": "display_data"
    }
   ],
   "source": [
    "m = 3.0\n",
    "cost_line = generate_cost_line(errors, m)\n",
    "regression_line = generate_regression_line(400, m, 56.33)\n",
    "fig = make_subplots()\n",
    "add_cost_function_trace(fig, m_linear_error_chart)\n",
    "add_scatter_plot(updated_shows)\n",
    "\n",
    "fig['layout'].update(shapes=[regression_line, cost_line])\n",
    "fig['layout']['yaxis1'].update(range=[0, 1500])\n",
    "\n",
    "plotly.offline.iplot(fig)"
   ]
  },
  {
   "cell_type": "markdown",
   "metadata": {},
   "source": [
    "Our cost chart on the right is a little difficult to interpret, but the main thing to realize is altering our m value no longer alters our cost by something approaching an equal amount.  Now focus on the chart to the right.  What we want to consider is how points further to the right (that is, with a larger x-coordinate) influence our error, as we change the slope of the line.  "
   ]
  },
  {
   "cell_type": "markdown",
   "metadata": {},
   "source": [
    "Notice that when the slope is 2.0, the point with x-value at 100 and x-value at 400, both miss the mark by say 100 or so.  Ok, go ahead and change the slope from 2.0 to say 3.0.  The error at x=100 rises by about 50 or so, but the error at point 400 rises by what, another 300?  A lot.  The takeaway point is that the change in the error as we change the slope of the line, does not influence all of the points equally.  The higher the x-value of a point, the more sensitive the error is to a changing slope."
   ]
  },
  {
   "cell_type": "markdown",
   "metadata": {},
   "source": [
    "So when we update m, we `m = m + error * x`, as we adjust our value of m not just by the average error, but also by our points' x-coordinate, as the further the x-coordinate the larger the error for a given point.  "
   ]
  },
  {
   "cell_type": "markdown",
   "metadata": {},
   "source": [
    "### Summary"
   ]
  },
  {
   "cell_type": "code",
   "execution_count": null,
   "metadata": {
    "collapsed": true
   },
   "outputs": [],
   "source": []
  }
 ],
 "metadata": {
  "kernelspec": {
   "display_name": "Python 3",
   "language": "python",
   "name": "python3"
  },
  "language_info": {
   "codemirror_mode": {
    "name": "ipython",
    "version": 3
   },
   "file_extension": ".py",
   "mimetype": "text/x-python",
   "name": "python",
   "nbconvert_exporter": "python",
   "pygments_lexer": "ipython3",
   "version": "3.6.1"
  }
 },
 "nbformat": 4,
 "nbformat_minor": 2
}
